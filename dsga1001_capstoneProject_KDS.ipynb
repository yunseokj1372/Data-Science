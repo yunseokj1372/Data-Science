{
 "cells": [
  {
   "cell_type": "code",
   "execution_count": 1,
   "metadata": {
    "colab": {
     "base_uri": "https://localhost:8080/"
    },
    "id": "9nPzlDwVBnqN",
    "outputId": "d8205049-456b-4e4b-ab5d-f0d71a8178d0"
   },
   "outputs": [],
   "source": [
    "# import basic library and read csv files \n",
    "\n",
    "import numpy as np\n",
    "import pandas as pd\n",
    "import seaborn as sns\n",
    "import matplotlib.pyplot as plt\n",
    "from scipy import stats\n",
    "from scipy.stats import chi2_contingency\n",
    "\n",
    "#ignore warnings\n",
    "import warnings\n",
    "warnings.filterwarnings('ignore')\n",
    "\n",
    "pd.set_option('display.max_columns', None) "
   ]
  },
  {
   "cell_type": "markdown",
   "metadata": {
    "id": "uPM8NbFeCgAK"
   },
   "source": [
    "# Pre-Processing"
   ]
  },
  {
   "cell_type": "code",
   "execution_count": 2,
   "metadata": {
    "id": "61WwV6WpB3VV"
   },
   "outputs": [],
   "source": [
    "student_por =  pd.read_csv('./student-por.csv')"
   ]
  },
  {
   "cell_type": "code",
   "execution_count": 3,
   "metadata": {
    "colab": {
     "base_uri": "https://localhost:8080/",
     "height": 206
    },
    "id": "5JPxPhewB-kU",
    "outputId": "647d4221-3ea9-4160-a5e6-ed429628f39a"
   },
   "outputs": [
    {
     "data": {
      "text/html": [
       "<div>\n",
       "<style scoped>\n",
       "    .dataframe tbody tr th:only-of-type {\n",
       "        vertical-align: middle;\n",
       "    }\n",
       "\n",
       "    .dataframe tbody tr th {\n",
       "        vertical-align: top;\n",
       "    }\n",
       "\n",
       "    .dataframe thead th {\n",
       "        text-align: right;\n",
       "    }\n",
       "</style>\n",
       "<table border=\"1\" class=\"dataframe\">\n",
       "  <thead>\n",
       "    <tr style=\"text-align: right;\">\n",
       "      <th></th>\n",
       "      <th>school</th>\n",
       "      <th>sex</th>\n",
       "      <th>age</th>\n",
       "      <th>address</th>\n",
       "      <th>famsize</th>\n",
       "      <th>Pstatus</th>\n",
       "      <th>Medu</th>\n",
       "      <th>Fedu</th>\n",
       "      <th>Mjob</th>\n",
       "      <th>Fjob</th>\n",
       "      <th>reason</th>\n",
       "      <th>guardian</th>\n",
       "      <th>traveltime</th>\n",
       "      <th>studytime</th>\n",
       "      <th>failures</th>\n",
       "      <th>schoolsup</th>\n",
       "      <th>famsup</th>\n",
       "      <th>paid</th>\n",
       "      <th>activities</th>\n",
       "      <th>nursery</th>\n",
       "      <th>higher</th>\n",
       "      <th>internet</th>\n",
       "      <th>romantic</th>\n",
       "      <th>famrel</th>\n",
       "      <th>freetime</th>\n",
       "      <th>goout</th>\n",
       "      <th>Dalc</th>\n",
       "      <th>Walc</th>\n",
       "      <th>health</th>\n",
       "      <th>absences</th>\n",
       "      <th>G1</th>\n",
       "      <th>G2</th>\n",
       "      <th>G3</th>\n",
       "    </tr>\n",
       "  </thead>\n",
       "  <tbody>\n",
       "    <tr>\n",
       "      <th>0</th>\n",
       "      <td>GP</td>\n",
       "      <td>F</td>\n",
       "      <td>18</td>\n",
       "      <td>U</td>\n",
       "      <td>GT3</td>\n",
       "      <td>A</td>\n",
       "      <td>4</td>\n",
       "      <td>4</td>\n",
       "      <td>at_home</td>\n",
       "      <td>teacher</td>\n",
       "      <td>course</td>\n",
       "      <td>mother</td>\n",
       "      <td>2</td>\n",
       "      <td>2</td>\n",
       "      <td>0</td>\n",
       "      <td>yes</td>\n",
       "      <td>no</td>\n",
       "      <td>no</td>\n",
       "      <td>no</td>\n",
       "      <td>yes</td>\n",
       "      <td>yes</td>\n",
       "      <td>no</td>\n",
       "      <td>no</td>\n",
       "      <td>4</td>\n",
       "      <td>3</td>\n",
       "      <td>4</td>\n",
       "      <td>1</td>\n",
       "      <td>1</td>\n",
       "      <td>3</td>\n",
       "      <td>4</td>\n",
       "      <td>0</td>\n",
       "      <td>11</td>\n",
       "      <td>11</td>\n",
       "    </tr>\n",
       "    <tr>\n",
       "      <th>1</th>\n",
       "      <td>GP</td>\n",
       "      <td>F</td>\n",
       "      <td>17</td>\n",
       "      <td>U</td>\n",
       "      <td>GT3</td>\n",
       "      <td>T</td>\n",
       "      <td>1</td>\n",
       "      <td>1</td>\n",
       "      <td>at_home</td>\n",
       "      <td>other</td>\n",
       "      <td>course</td>\n",
       "      <td>father</td>\n",
       "      <td>1</td>\n",
       "      <td>2</td>\n",
       "      <td>0</td>\n",
       "      <td>no</td>\n",
       "      <td>yes</td>\n",
       "      <td>no</td>\n",
       "      <td>no</td>\n",
       "      <td>no</td>\n",
       "      <td>yes</td>\n",
       "      <td>yes</td>\n",
       "      <td>no</td>\n",
       "      <td>5</td>\n",
       "      <td>3</td>\n",
       "      <td>3</td>\n",
       "      <td>1</td>\n",
       "      <td>1</td>\n",
       "      <td>3</td>\n",
       "      <td>2</td>\n",
       "      <td>9</td>\n",
       "      <td>11</td>\n",
       "      <td>11</td>\n",
       "    </tr>\n",
       "    <tr>\n",
       "      <th>2</th>\n",
       "      <td>GP</td>\n",
       "      <td>F</td>\n",
       "      <td>15</td>\n",
       "      <td>U</td>\n",
       "      <td>LE3</td>\n",
       "      <td>T</td>\n",
       "      <td>1</td>\n",
       "      <td>1</td>\n",
       "      <td>at_home</td>\n",
       "      <td>other</td>\n",
       "      <td>other</td>\n",
       "      <td>mother</td>\n",
       "      <td>1</td>\n",
       "      <td>2</td>\n",
       "      <td>0</td>\n",
       "      <td>yes</td>\n",
       "      <td>no</td>\n",
       "      <td>no</td>\n",
       "      <td>no</td>\n",
       "      <td>yes</td>\n",
       "      <td>yes</td>\n",
       "      <td>yes</td>\n",
       "      <td>no</td>\n",
       "      <td>4</td>\n",
       "      <td>3</td>\n",
       "      <td>2</td>\n",
       "      <td>2</td>\n",
       "      <td>3</td>\n",
       "      <td>3</td>\n",
       "      <td>6</td>\n",
       "      <td>12</td>\n",
       "      <td>13</td>\n",
       "      <td>12</td>\n",
       "    </tr>\n",
       "  </tbody>\n",
       "</table>\n",
       "</div>"
      ],
      "text/plain": [
       "  school sex  age address famsize Pstatus  Medu  Fedu     Mjob     Fjob  \\\n",
       "0     GP   F   18       U     GT3       A     4     4  at_home  teacher   \n",
       "1     GP   F   17       U     GT3       T     1     1  at_home    other   \n",
       "2     GP   F   15       U     LE3       T     1     1  at_home    other   \n",
       "\n",
       "   reason guardian  traveltime  studytime  failures schoolsup famsup paid  \\\n",
       "0  course   mother           2          2         0       yes     no   no   \n",
       "1  course   father           1          2         0        no    yes   no   \n",
       "2   other   mother           1          2         0       yes     no   no   \n",
       "\n",
       "  activities nursery higher internet romantic  famrel  freetime  goout  Dalc  \\\n",
       "0         no     yes    yes       no       no       4         3      4     1   \n",
       "1         no      no    yes      yes       no       5         3      3     1   \n",
       "2         no     yes    yes      yes       no       4         3      2     2   \n",
       "\n",
       "   Walc  health  absences  G1  G2  G3  \n",
       "0     1       3         4   0  11  11  \n",
       "1     1       3         2   9  11  11  \n",
       "2     3       3         6  12  13  12  "
      ]
     },
     "execution_count": 3,
     "metadata": {},
     "output_type": "execute_result"
    }
   ],
   "source": [
    "student_por.head(3)"
   ]
  },
  {
   "cell_type": "code",
   "execution_count": 4,
   "metadata": {
    "colab": {
     "base_uri": "https://localhost:8080/"
    },
    "id": "31gfh5NGCAsB",
    "outputId": "d2f75dfb-c6ef-411d-a2f8-ec8660a2ac74"
   },
   "outputs": [
    {
     "name": "stdout",
     "output_type": "stream",
     "text": [
      "<class 'pandas.core.frame.DataFrame'>\n",
      "RangeIndex: 649 entries, 0 to 648\n",
      "Data columns (total 33 columns):\n",
      " #   Column      Non-Null Count  Dtype \n",
      "---  ------      --------------  ----- \n",
      " 0   school      649 non-null    object\n",
      " 1   sex         649 non-null    object\n",
      " 2   age         649 non-null    int64 \n",
      " 3   address     649 non-null    object\n",
      " 4   famsize     649 non-null    object\n",
      " 5   Pstatus     649 non-null    object\n",
      " 6   Medu        649 non-null    int64 \n",
      " 7   Fedu        649 non-null    int64 \n",
      " 8   Mjob        649 non-null    object\n",
      " 9   Fjob        649 non-null    object\n",
      " 10  reason      649 non-null    object\n",
      " 11  guardian    649 non-null    object\n",
      " 12  traveltime  649 non-null    int64 \n",
      " 13  studytime   649 non-null    int64 \n",
      " 14  failures    649 non-null    int64 \n",
      " 15  schoolsup   649 non-null    object\n",
      " 16  famsup      649 non-null    object\n",
      " 17  paid        649 non-null    object\n",
      " 18  activities  649 non-null    object\n",
      " 19  nursery     649 non-null    object\n",
      " 20  higher      649 non-null    object\n",
      " 21  internet    649 non-null    object\n",
      " 22  romantic    649 non-null    object\n",
      " 23  famrel      649 non-null    int64 \n",
      " 24  freetime    649 non-null    int64 \n",
      " 25  goout       649 non-null    int64 \n",
      " 26  Dalc        649 non-null    int64 \n",
      " 27  Walc        649 non-null    int64 \n",
      " 28  health      649 non-null    int64 \n",
      " 29  absences    649 non-null    int64 \n",
      " 30  G1          649 non-null    int64 \n",
      " 31  G2          649 non-null    int64 \n",
      " 32  G3          649 non-null    int64 \n",
      "dtypes: int64(16), object(17)\n",
      "memory usage: 167.4+ KB\n"
     ]
    }
   ],
   "source": [
    "student_por.info()"
   ]
  },
  {
   "cell_type": "code",
   "execution_count": 5,
   "metadata": {
    "colab": {
     "base_uri": "https://localhost:8080/"
    },
    "id": "MhQ7cyd5CDlY",
    "outputId": "5c0f32ce-ff0c-44a2-bebe-c5d844da96a4"
   },
   "outputs": [
    {
     "data": {
      "text/plain": [
       "0"
      ]
     },
     "execution_count": 5,
     "metadata": {},
     "output_type": "execute_result"
    }
   ],
   "source": [
    "student_por.duplicated().sum()"
   ]
  },
  {
   "cell_type": "markdown",
   "metadata": {
    "id": "oVpIjRVeCzby"
   },
   "source": [
    "# EDA and Hypothesis Testing"
   ]
  },
  {
   "cell_type": "markdown",
   "metadata": {
    "id": "qcF1xtDJDnQz"
   },
   "source": [
    "## Does study time impact final grade? How many hours is considered optimal?"
   ]
  },
  {
   "cell_type": "code",
   "execution_count": 6,
   "metadata": {
    "id": "8PjoRQ51Db-k"
   },
   "outputs": [],
   "source": [
    "#change numerical values to labels\n",
    "student_por.studytime.replace(to_replace=[1,2,3,4], value=['< 2 hours','2 to 5 hours', '5 to 10 hours', '> 10 hours'], inplace=True)"
   ]
  },
  {
   "cell_type": "code",
   "execution_count": 7,
   "metadata": {
    "colab": {
     "base_uri": "https://localhost:8080/",
     "height": 421
    },
    "id": "B70LJp5gDrbr",
    "outputId": "7cc06926-a142-4f40-a7f6-85d5248afa74"
   },
   "outputs": [
    {
     "data": {
      "text/plain": [
       "Text(0.5, 1.0, 'Number of Students by Study Time')"
      ]
     },
     "execution_count": 7,
     "metadata": {},
     "output_type": "execute_result"
    },
    {
     "data": {
      "image/png": "[encoded data removed]",
      "text/plain": [
       "<Figure size 720x432 with 1 Axes>"
      ]
     },
     "metadata": {
      "needs_background": "light"
     },
     "output_type": "display_data"
    }
   ],
   "source": [
    "plt.figure(figsize=(10,6))\n",
    "sns.countplot(x=student_por.studytime,data=student_por)\n",
    "plt.title(\"Number of Students by Study Time\")"
   ]
  },
  {
   "cell_type": "code",
   "execution_count": 8,
   "metadata": {
    "colab": {
     "base_uri": "https://localhost:8080/",
     "height": 421
    },
    "id": "zcnlIldfDvN7",
    "outputId": "25ddbbfb-41de-4d3e-871d-b4cbee1379c6"
   },
   "outputs": [
    {
     "data": {
      "text/plain": [
       "Text(0.5, 1.0, 'Reslut of Final Grade by Study Time')"
      ]
     },
     "execution_count": 8,
     "metadata": {},
     "output_type": "execute_result"
    },
    {
     "data": {
      "image/png": "[encoded data removed]",
      "text/plain": [
       "<Figure size 720x432 with 1 Axes>"
      ]
     },
     "metadata": {
      "needs_background": "light"
     },
     "output_type": "display_data"
    }
   ],
   "source": [
    "plt.figure(figsize=(10,6))\n",
    "sns.boxplot(x=student_por.studytime, y='G3', data=student_por)\n",
    "plt.title(\"Reslut of Final Grade by Study Time\")"
   ]
  },
  {
   "cell_type": "code",
   "execution_count": 9,
   "metadata": {
    "colab": {
     "base_uri": "https://localhost:8080/"
    },
    "id": "sjDnGY58R2pk",
    "outputId": "4a37d5f7-979b-4bdb-b0ed-acee0b32fb1d"
   },
   "outputs": [
    {
     "name": "stdout",
     "output_type": "stream",
     "text": [
      "13.22680412371134\n",
      "13.057142857142857\n",
      "12.091803278688525\n",
      "10.84433962264151\n"
     ]
    }
   ],
   "source": [
    "#observe mean values of different groups\n",
    "w =student_por[student_por.studytime=='5 to 10 hours']\n",
    "x =student_por[student_por.studytime=='> 10 hours']\n",
    "y =student_por[student_por.studytime=='2 to 5 hours']\n",
    "z =student_por[student_por.studytime=='< 2 hours']\n",
    "\n",
    "print(w.G3.mean())\n",
    "print(x.G3.mean())\n",
    "print(y.G3.mean())\n",
    "print(z.G3.mean())"
   ]
  },
  {
   "cell_type": "code",
   "execution_count": 10,
   "metadata": {
    "id": "ZgAe-gWlD2QV"
   },
   "outputs": [],
   "source": [
    "#pre-process for testing\n",
    "studytime = student_por['studytime']\n",
    "finalgrade = student_por['G3']\n",
    "\n",
    "table3 = pd.crosstab(studytime,finalgrade)"
   ]
  },
  {
   "cell_type": "code",
   "execution_count": 11,
   "metadata": {
    "colab": {
     "base_uri": "https://localhost:8080/"
    },
    "id": "XHXxh7nhD5vs",
    "outputId": "fd967ed6-c68e-4710-8506-3cb16fc55da4"
   },
   "outputs": [
    {
     "name": "stdout",
     "output_type": "stream",
     "text": [
      "study time vs final grade:\n",
      "chi_val = 92.7071\n",
      "p_val = 0.000114396\n"
     ]
    }
   ],
   "source": [
    "# Chi-squared test\n",
    "chi, p, d, e = chi2_contingency(table3)\n",
    "\n",
    "print('study time vs final grade:')\n",
    "print(\"chi_val = %g\"% (chi))\n",
    "print(\"p_val = %g\"% (p))"
   ]
  },
  {
   "cell_type": "markdown",
   "metadata": {
    "id": "opRZXrlYD9z3"
   },
   "source": [
    "- P-value is less than 0.05 so we can reject null hypothesis and conclude there is an association between result of final grade and the amount time you study. Interesting to note that it is not a linear relationship because for students who studied over 10 hours don't seem to score better than students who study 5-10 hours."
   ]
  },
  {
   "cell_type": "markdown",
   "metadata": {
    "id": "gfD6T0J3bEzU"
   },
   "source": [
    "## Do parents’ level of education affect students’ students’ performance in school?"
   ]
  },
  {
   "cell_type": "code",
   "execution_count": 12,
   "metadata": {
    "id": "jHcwdlJmJtck"
   },
   "outputs": [],
   "source": [
    "medu_high = student_por[student_por[\"Medu\"]==4]\n",
    "fedu_high = student_por[student_por[\"Fedu\"]==4]\n",
    "merge_high = pd.concat([medu_high,fedu_high], axis=0)\n",
    "pedu_high = merge_high.drop_duplicates(subset=[\"school\",\"sex\",\"age\",\"address\",\"famsize\",\"Pstatus\",\"Medu\",\"Fedu\",\"Mjob\",\"Fjob\",\"famrel\",\"freetime\",\"goout\",\"reason\",\"nursery\",\"internet\",\"G1\",\"G2\",\"G3\"])\n",
    "\n",
    "fedu = student_por[student_por[\"Fedu\"]<4]\n",
    "pedu = student_por[student_por[\"Medu\"]<4]"
   ]
  },
  {
   "cell_type": "markdown",
   "metadata": {
    "id": "Kx81NqCLMsXz"
   },
   "source": [
    "We define group 1, pedu_high, as students who have at least one parent with a high level of education and group 2, pedu, as students who have parents, neither of whom has a high level of education."
   ]
  },
  {
   "cell_type": "code",
   "execution_count": 13,
   "metadata": {
    "colab": {
     "base_uri": "https://localhost:8080/"
    },
    "id": "X3Ni0noKuRMp",
    "outputId": "26bb2902-6872-4f8d-b587-232805189f6c"
   },
   "outputs": [
    {
     "data": {
      "text/plain": [
       "Ttest_indResult(statistic=-5.6540852648733635, pvalue=2.3072590336934125e-08)"
      ]
     },
     "execution_count": 13,
     "metadata": {},
     "output_type": "execute_result"
    }
   ],
   "source": [
    "stats.ttest_ind(pedu[\"G3\"],pedu_high[\"G3\"]) "
   ]
  },
  {
   "cell_type": "code",
   "execution_count": 14,
   "metadata": {
    "colab": {
     "base_uri": "https://localhost:8080/"
    },
    "id": "SkS29lvYWJi3",
    "outputId": "fd1edfed-e54c-47be-d802-9e42d44858f5"
   },
   "outputs": [
    {
     "data": {
      "text/plain": [
       "MannwhitneyuResult(statistic=34144.5, pvalue=1.222427299208916e-10)"
      ]
     },
     "execution_count": 14,
     "metadata": {},
     "output_type": "execute_result"
    }
   ],
   "source": [
    "stats.mannwhitneyu(pedu[\"G3\"],pedu_high[\"G3\"]) "
   ]
  },
  {
   "cell_type": "markdown",
   "metadata": {
    "id": "mFJXUwXwMX61"
   },
   "source": [
    "The p-value is approximately 0, which is smaller than the significance level of 0.05. Therefore, we reject the null hypothesis that the overall grades of students in the two groups are the same and conclude that the parents’ educational level has an impact on student grades."
   ]
  },
  {
   "cell_type": "code",
   "execution_count": 15,
   "metadata": {
    "colab": {
     "base_uri": "https://localhost:8080/",
     "height": 283
    },
    "id": "HIOV5dlP2-CE",
    "outputId": "2041375f-ce3c-4b2e-f1aa-d3e0ed66cd57"
   },
   "outputs": [
    {
     "data": {
      "text/plain": [
       "<matplotlib.legend.Legend at 0x7fc61835dfd0>"
      ]
     },
     "execution_count": 15,
     "metadata": {},
     "output_type": "execute_result"
    },
    {
     "data": {
      "image/png": "[encoded data removed]",
      "text/plain": [
       "<Figure size 576x288 with 1 Axes>"
      ]
     },
     "metadata": {
      "needs_background": "light"
     },
     "output_type": "display_data"
    }
   ],
   "source": [
    "plt.rcParams[\"figure.figsize\"] = (8,4)\n",
    "plt.hist(pedu[\"G3\"], density=True, bins=20, alpha = 0.5, label = \"Grades of students who have parents without high level education\")\n",
    "plt.hist(pedu_high[\"G3\"], density=True, bins=20, alpha=0.5, label = \"Grades of students who have parents with high level of education\")\n",
    "plt.legend()"
   ]
  },
  {
   "cell_type": "code",
   "execution_count": 16,
   "metadata": {
    "colab": {
     "base_uri": "https://localhost:8080/"
    },
    "id": "JCAc7BAJE-0T",
    "outputId": "e060e5e9-7b36-499a-d3bb-293b4be03573"
   },
   "outputs": [
    {
     "data": {
      "text/plain": [
       "12.95673076923077"
      ]
     },
     "execution_count": 16,
     "metadata": {},
     "output_type": "execute_result"
    }
   ],
   "source": [
    "np.mean(pedu_high[\"G3\"])"
   ]
  },
  {
   "cell_type": "code",
   "execution_count": 17,
   "metadata": {
    "colab": {
     "base_uri": "https://localhost:8080/"
    },
    "id": "EZaTkXyHFLbc",
    "outputId": "50885857-285b-484d-b0a0-eb30acaebbc1"
   },
   "outputs": [
    {
     "data": {
      "text/plain": [
       "11.476793248945148"
      ]
     },
     "execution_count": 17,
     "metadata": {},
     "output_type": "execute_result"
    }
   ],
   "source": [
    "np.mean(pedu[\"G3\"])"
   ]
  },
  {
   "cell_type": "code",
   "execution_count": 18,
   "metadata": {
    "colab": {
     "base_uri": "https://localhost:8080/",
     "height": 482
    },
    "id": "CSLuygWr2-PH",
    "outputId": "e970b0b8-818a-4062-ecc5-9243d24e38a5"
   },
   "outputs": [
    {
     "data": {
      "text/plain": [
       "Text(0.5, 1.0, 'Students whose parents do not have high level education')"
      ]
     },
     "execution_count": 18,
     "metadata": {},
     "output_type": "execute_result"
    },
    {
     "data": {
      "image/png": "[encoded data removed]",
      "text/plain": [
       "<Figure size 360x216 with 1 Axes>"
      ]
     },
     "metadata": {
      "needs_background": "light"
     },
     "output_type": "display_data"
    },
    {
     "data": {
      "image/png": "[encoded data removed]",
      "text/plain": [
       "<Figure size 360x216 with 1 Axes>"
      ]
     },
     "metadata": {
      "needs_background": "light"
     },
     "output_type": "display_data"
    }
   ],
   "source": [
    "## yes = wants to pursue high level education, no = does not want to pursue high level education\n",
    "\n",
    "plt.figure(figsize=(5,3))\n",
    "sns.countplot(x=pedu_high.higher,data=pedu_high)\n",
    "plt.title(\"Students who have parents with high level of education\")\n",
    "\n",
    "plt.figure(figsize=(5,3))\n",
    "sns.countplot(x=pedu.higher,data=pedu)\n",
    "plt.title(\"Students whose parents do not have high level education\")"
   ]
  },
  {
   "cell_type": "markdown",
   "metadata": {
    "id": "jYuXUlYbHC4-"
   },
   "source": [
    "## M/L\n",
    "- What factor leads to academic success? \n",
    "- Can we assume an academic success based on given features?"
   ]
  },
  {
   "cell_type": "markdown",
   "metadata": {
    "id": "JpDgNS3ghy31"
   },
   "source": [
    "### Conducting linear regression\n",
    "- Feature as given factors, predict target value as Grade(G1) \n",
    "- Since target value is not binomial, our team conducted linear regression\n",
    "- By using linear regression, Ridge, Lasso models, our team calculated R^2 scores\n",
    "- Also, we checked which alpha should be optimal, given train error & test error"
   ]
  },
  {
   "cell_type": "code",
   "execution_count": 19,
   "metadata": {
    "colab": {
     "base_uri": "https://localhost:8080/"
    },
    "id": "aFgphsv1EMvs",
    "outputId": "847064a5-7c32-42ae-fd9b-c13a3adbd0ab"
   },
   "outputs": [
    {
     "data": {
      "text/plain": [
       "10    95\n",
       "11    91\n",
       "12    82\n",
       "13    72\n",
       "14    71\n",
       "9     65\n",
       "8     42\n",
       "15    35\n",
       "7     33\n",
       "16    22\n",
       "17    16\n",
       "6      9\n",
       "18     7\n",
       "5      5\n",
       "4      2\n",
       "0      1\n",
       "19     1\n",
       "Name: G1, dtype: int64"
      ]
     },
     "execution_count": 19,
     "metadata": {},
     "output_type": "execute_result"
    }
   ],
   "source": [
    "# Target value 'G1' distribution\n",
    "student_por['G1'].value_counts()"
   ]
  },
  {
   "cell_type": "code",
   "execution_count": 20,
   "metadata": {
    "colab": {
     "base_uri": "https://localhost:8080/",
     "height": 265
    },
    "id": "gP7TfKNXi5eQ",
    "outputId": "b24f9fc1-2744-4931-b663-74b3e17b5099"
   },
   "outputs": [
    {
     "data": {
      "image/png": "[encoded data removed]",
      "text/plain": [
       "<Figure size 576x288 with 1 Axes>"
      ]
     },
     "metadata": {
      "needs_background": "light"
     },
     "output_type": "display_data"
    }
   ],
   "source": [
    "# Target value shows normal distribution\n",
    "plt.hist(student_por['G1'])\n",
    "plt.show()"
   ]
  },
  {
   "cell_type": "code",
   "execution_count": 21,
   "metadata": {
    "colab": {
     "base_uri": "https://localhost:8080/"
    },
    "id": "LYteMWBKG9TJ",
    "outputId": "aef36451-1961-4e97-8c3e-3c1606f6cf90"
   },
   "outputs": [
    {
     "name": "stdout",
     "output_type": "stream",
     "text": [
      "----------\n",
      "school\n",
      "GP    423\n",
      "MS    226\n",
      "Name: school, dtype: int64 \n",
      "\n",
      "----------\n",
      "sex\n",
      "F    383\n",
      "M    266\n",
      "Name: sex, dtype: int64 \n",
      "\n",
      "----------\n",
      "age\n",
      "17    179\n",
      "16    177\n",
      "18    140\n",
      "15    112\n",
      "19     32\n",
      "20      6\n",
      "21      2\n",
      "22      1\n",
      "Name: age, dtype: int64 \n",
      "\n",
      "----------\n",
      "address\n",
      "U    452\n",
      "R    197\n",
      "Name: address, dtype: int64 \n",
      "\n",
      "----------\n",
      "famsize\n",
      "GT3    457\n",
      "LE3    192\n",
      "Name: famsize, dtype: int64 \n",
      "\n",
      "----------\n",
      "Pstatus\n",
      "T    569\n",
      "A     80\n",
      "Name: Pstatus, dtype: int64 \n",
      "\n",
      "----------\n",
      "Medu\n",
      "2    186\n",
      "4    175\n",
      "1    143\n",
      "3    139\n",
      "0      6\n",
      "Name: Medu, dtype: int64 \n",
      "\n",
      "----------\n",
      "Fedu\n",
      "2    209\n",
      "1    174\n",
      "3    131\n",
      "4    128\n",
      "0      7\n",
      "Name: Fedu, dtype: int64 \n",
      "\n",
      "----------\n",
      "Mjob\n",
      "other       258\n",
      "services    136\n",
      "at_home     135\n",
      "teacher      72\n",
      "health       48\n",
      "Name: Mjob, dtype: int64 \n",
      "\n",
      "----------\n",
      "Fjob\n",
      "other       367\n",
      "services    181\n",
      "at_home      42\n",
      "teacher      36\n",
      "health       23\n",
      "Name: Fjob, dtype: int64 \n",
      "\n",
      "----------\n",
      "reason\n",
      "course        285\n",
      "home          149\n",
      "reputation    143\n",
      "other          72\n",
      "Name: reason, dtype: int64 \n",
      "\n",
      "----------\n",
      "guardian\n",
      "mother    455\n",
      "father    153\n",
      "other      41\n",
      "Name: guardian, dtype: int64 \n",
      "\n",
      "----------\n",
      "traveltime\n",
      "1    366\n",
      "2    213\n",
      "3     54\n",
      "4     16\n",
      "Name: traveltime, dtype: int64 \n",
      "\n",
      "----------\n",
      "studytime\n",
      "2 to 5 hours     305\n",
      "< 2 hours        212\n",
      "5 to 10 hours     97\n",
      "> 10 hours        35\n",
      "Name: studytime, dtype: int64 \n",
      "\n",
      "----------\n",
      "failures\n",
      "0    549\n",
      "1     70\n",
      "2     16\n",
      "3     14\n",
      "Name: failures, dtype: int64 \n",
      "\n",
      "----------\n",
      "schoolsup\n",
      "no     581\n",
      "yes     68\n",
      "Name: schoolsup, dtype: int64 \n",
      "\n",
      "----------\n",
      "famsup\n",
      "yes    398\n",
      "no     251\n",
      "Name: famsup, dtype: int64 \n",
      "\n",
      "----------\n",
      "paid\n",
      "no     610\n",
      "yes     39\n",
      "Name: paid, dtype: int64 \n",
      "\n",
      "----------\n",
      "activities\n",
      "no     334\n",
      "yes    315\n",
      "Name: activities, dtype: int64 \n",
      "\n",
      "----------\n",
      "nursery\n",
      "yes    521\n",
      "no     128\n",
      "Name: nursery, dtype: int64 \n",
      "\n",
      "----------\n",
      "higher\n",
      "yes    580\n",
      "no      69\n",
      "Name: higher, dtype: int64 \n",
      "\n",
      "----------\n",
      "internet\n",
      "yes    498\n",
      "no     151\n",
      "Name: internet, dtype: int64 \n",
      "\n",
      "----------\n",
      "romantic\n",
      "no     410\n",
      "yes    239\n",
      "Name: romantic, dtype: int64 \n",
      "\n",
      "----------\n",
      "famrel\n",
      "4    317\n",
      "5    180\n",
      "3    101\n",
      "2     29\n",
      "1     22\n",
      "Name: famrel, dtype: int64 \n",
      "\n",
      "----------\n",
      "freetime\n",
      "3    251\n",
      "4    178\n",
      "2    107\n",
      "5     68\n",
      "1     45\n",
      "Name: freetime, dtype: int64 \n",
      "\n",
      "----------\n",
      "goout\n",
      "3    205\n",
      "2    145\n",
      "4    141\n",
      "5    110\n",
      "1     48\n",
      "Name: goout, dtype: int64 \n",
      "\n",
      "----------\n",
      "Dalc\n",
      "1    451\n",
      "2    121\n",
      "3     43\n",
      "4     17\n",
      "5     17\n",
      "Name: Dalc, dtype: int64 \n",
      "\n",
      "----------\n",
      "Walc\n",
      "1    247\n",
      "2    150\n",
      "3    120\n",
      "4     87\n",
      "5     45\n",
      "Name: Walc, dtype: int64 \n",
      "\n",
      "----------\n",
      "health\n",
      "5    249\n",
      "3    124\n",
      "4    108\n",
      "1     90\n",
      "2     78\n",
      "Name: health, dtype: int64 \n",
      "\n",
      "----------\n",
      "absences\n",
      "0     244\n",
      "2     110\n",
      "4      93\n",
      "6      49\n",
      "8      42\n",
      "10     21\n",
      "1      12\n",
      "12     12\n",
      "5      12\n",
      "16     10\n",
      "14      8\n",
      "9       7\n",
      "3       7\n",
      "11      5\n",
      "7       3\n",
      "18      3\n",
      "15      2\n",
      "21      2\n",
      "22      2\n",
      "13      1\n",
      "24      1\n",
      "26      1\n",
      "30      1\n",
      "32      1\n",
      "Name: absences, dtype: int64 \n",
      "\n",
      "----------\n",
      "G1\n",
      "10    95\n",
      "11    91\n",
      "12    82\n",
      "13    72\n",
      "14    71\n",
      "9     65\n",
      "8     42\n",
      "15    35\n",
      "7     33\n",
      "16    22\n",
      "17    16\n",
      "6      9\n",
      "18     7\n",
      "5      5\n",
      "4      2\n",
      "0      1\n",
      "19     1\n",
      "Name: G1, dtype: int64 \n",
      "\n",
      "----------\n",
      "G2\n",
      "11    103\n",
      "12     86\n",
      "10     83\n",
      "13     80\n",
      "9      72\n",
      "14     54\n",
      "8      40\n",
      "15     38\n",
      "16     25\n",
      "17     20\n",
      "7      16\n",
      "18     14\n",
      "0       7\n",
      "6       7\n",
      "5       3\n",
      "19      1\n",
      "Name: G2, dtype: int64 \n",
      "\n",
      "----------\n",
      "G3\n",
      "11    104\n",
      "10     97\n",
      "13     82\n",
      "12     72\n",
      "14     63\n",
      "15     49\n",
      "16     36\n",
      "8      35\n",
      "9      35\n",
      "17     29\n",
      "18     15\n",
      "0      15\n",
      "7      10\n",
      "6       3\n",
      "19      2\n",
      "1       1\n",
      "5       1\n",
      "Name: G3, dtype: int64 \n",
      "\n"
     ]
    }
   ],
   "source": [
    "# Checking distribution of each given columns\n",
    "for column in student_por.columns:\n",
    "    print('----------')\n",
    "    print(column)\n",
    "    print(student_por[column].value_counts(), '\\n')\n"
   ]
  },
  {
   "cell_type": "code",
   "execution_count": 22,
   "metadata": {
    "colab": {
     "base_uri": "https://localhost:8080/",
     "height": 487
    },
    "id": "9iYQ3ljOkxrG",
    "outputId": "3c3dd48b-b4c2-4ca8-a78e-156bb96b8e3c"
   },
   "outputs": [
    {
     "data": {
      "image/png": "[encoded data removed]",
      "text/plain": [
       "<Figure size 1080x576 with 2 Axes>"
      ]
     },
     "metadata": {
      "needs_background": "light"
     },
     "output_type": "display_data"
    }
   ],
   "source": [
    "# Analyzing correlation among features and look for correlation\n",
    "# Facts and interpretation\n",
    "\n",
    "# 1) Medu & Fedu have correlation of 0.65:\n",
    "# - Mother's education level has high positive corrlation with Father's education level\n",
    "# -> Mother and father's education level tends to follow each other  \n",
    "\n",
    "# 2) Dalc & Walc have correlation of 0.62:\n",
    "# - Workday alcohol consumption has high positive corrlation with weekend alcohol consumption\n",
    "# -> Student who consumes alchol on workday also consumes on weekend\n",
    "\n",
    "# 3) goout & Walc have correlation of 0.39:\n",
    "# - Going out with friends has high positive corrlation with weekend alcohol consumption\n",
    "# -> Student who hangs out tends to consume alcohol on weekends \n",
    "\n",
    "# 4) freetime & goout have correlation of 0.35:\n",
    "# - free time after school has high positive corrlation with going out with friends\n",
    "# -> Students tend to hang out with friends when they have free time after school\n",
    "\n",
    "# 5) age & failure have correlation of 0.32:\n",
    "# - age has high positive corrlation with number of past class failures\n",
    "# -> Class failure makes delays graduation and this makes student more aged  \n",
    "\n",
    "# 6) Medu & traveltime have correlation of -0.27:\n",
    "# - Mother's education level has high negative corrlation with home to school travel time\n",
    "# -> Mother (and father)'s high education level might affected to move closer to school for their kids\n",
    "\n",
    "# 7) Medu & failures have correlation of -0.17:\n",
    "# - Mother's education level has high negative corrlation with number of past class failures\n",
    "# -> Mother (and father)'s high education level might affected students to study and this lead to success in class \n",
    "\n",
    "\n",
    "# traveltime vs Medu/Fedu: highly educated mom/dad decides to let their son/daughter live closer to school\n",
    "import seaborn as sns\n",
    "\n",
    "plt.figure(figsize=(15,8))\n",
    "student_por_fea = student_por.drop(['G1', 'G2', 'G3'], axis=1, inplace=False)\n",
    "sns.heatmap(student_por_fea.corr(), annot=True, fmt='.2f')\n",
    "plt.xticks(rotation = 0)\n",
    "plt.show()"
   ]
  },
  {
   "cell_type": "code",
   "execution_count": 23,
   "metadata": {
    "id": "m6wJEEPlK8PK"
   },
   "outputs": [],
   "source": [
    "# dividing numerical columns / categorical columns\n",
    "# for categorical columns, conduct one-hot encoding by using get_dummies function \n",
    "num_col = student_por.describe().columns\n",
    "cat_col = student_por.columns.drop(num_col)\n",
    "\n",
    "student_por_encoded = pd.get_dummies(student_por, columns=cat_col, prefix=cat_col)"
   ]
  },
  {
   "cell_type": "code",
   "execution_count": 24,
   "metadata": {
    "colab": {
     "base_uri": "https://localhost:8080/"
    },
    "id": "3ZlEkAnrMpd_",
    "outputId": "b64f0176-807c-4688-a2a1-ad46305b7c09"
   },
   "outputs": [
    {
     "data": {
      "text/plain": [
       "(15, 18)"
      ]
     },
     "execution_count": 24,
     "metadata": {},
     "output_type": "execute_result"
    }
   ],
   "source": [
    "len(num_col), len(cat_col)"
   ]
  },
  {
   "cell_type": "code",
   "execution_count": 25,
   "metadata": {
    "colab": {
     "base_uri": "https://localhost:8080/"
    },
    "id": "hwojgEFBMbB2",
    "outputId": "5193fb93-3ed7-4215-b082-f3f9733e840a"
   },
   "outputs": [
    {
     "name": "stdout",
     "output_type": "stream",
     "text": [
      "<class 'pandas.core.frame.DataFrame'>\n",
      "RangeIndex: 649 entries, 0 to 648\n",
      "Data columns (total 62 columns):\n",
      " #   Column                   Non-Null Count  Dtype\n",
      "---  ------                   --------------  -----\n",
      " 0   age                      649 non-null    int64\n",
      " 1   Medu                     649 non-null    int64\n",
      " 2   Fedu                     649 non-null    int64\n",
      " 3   traveltime               649 non-null    int64\n",
      " 4   failures                 649 non-null    int64\n",
      " 5   famrel                   649 non-null    int64\n",
      " 6   freetime                 649 non-null    int64\n",
      " 7   goout                    649 non-null    int64\n",
      " 8   Dalc                     649 non-null    int64\n",
      " 9   Walc                     649 non-null    int64\n",
      " 10  health                   649 non-null    int64\n",
      " 11  absences                 649 non-null    int64\n",
      " 12  G1                       649 non-null    int64\n",
      " 13  G2                       649 non-null    int64\n",
      " 14  G3                       649 non-null    int64\n",
      " 15  school_GP                649 non-null    uint8\n",
      " 16  school_MS                649 non-null    uint8\n",
      " 17  sex_F                    649 non-null    uint8\n",
      " 18  sex_M                    649 non-null    uint8\n",
      " 19  address_R                649 non-null    uint8\n",
      " 20  address_U                649 non-null    uint8\n",
      " 21  famsize_GT3              649 non-null    uint8\n",
      " 22  famsize_LE3              649 non-null    uint8\n",
      " 23  Pstatus_A                649 non-null    uint8\n",
      " 24  Pstatus_T                649 non-null    uint8\n",
      " 25  Mjob_at_home             649 non-null    uint8\n",
      " 26  Mjob_health              649 non-null    uint8\n",
      " 27  Mjob_other               649 non-null    uint8\n",
      " 28  Mjob_services            649 non-null    uint8\n",
      " 29  Mjob_teacher             649 non-null    uint8\n",
      " 30  Fjob_at_home             649 non-null    uint8\n",
      " 31  Fjob_health              649 non-null    uint8\n",
      " 32  Fjob_other               649 non-null    uint8\n",
      " 33  Fjob_services            649 non-null    uint8\n",
      " 34  Fjob_teacher             649 non-null    uint8\n",
      " 35  reason_course            649 non-null    uint8\n",
      " 36  reason_home              649 non-null    uint8\n",
      " 37  reason_other             649 non-null    uint8\n",
      " 38  reason_reputation        649 non-null    uint8\n",
      " 39  guardian_father          649 non-null    uint8\n",
      " 40  guardian_mother          649 non-null    uint8\n",
      " 41  guardian_other           649 non-null    uint8\n",
      " 42  studytime_2 to 5 hours   649 non-null    uint8\n",
      " 43  studytime_5 to 10 hours  649 non-null    uint8\n",
      " 44  studytime_< 2 hours      649 non-null    uint8\n",
      " 45  studytime_> 10 hours     649 non-null    uint8\n",
      " 46  schoolsup_no             649 non-null    uint8\n",
      " 47  schoolsup_yes            649 non-null    uint8\n",
      " 48  famsup_no                649 non-null    uint8\n",
      " 49  famsup_yes               649 non-null    uint8\n",
      " 50  paid_no                  649 non-null    uint8\n",
      " 51  paid_yes                 649 non-null    uint8\n",
      " 52  activities_no            649 non-null    uint8\n",
      " 53  activities_yes           649 non-null    uint8\n",
      " 54  nursery_no               649 non-null    uint8\n",
      " 55  nursery_yes              649 non-null    uint8\n",
      " 56  higher_no                649 non-null    uint8\n",
      " 57  higher_yes               649 non-null    uint8\n",
      " 58  internet_no              649 non-null    uint8\n",
      " 59  internet_yes             649 non-null    uint8\n",
      " 60  romantic_no              649 non-null    uint8\n",
      " 61  romantic_yes             649 non-null    uint8\n",
      "dtypes: int64(15), uint8(47)\n",
      "memory usage: 106.0 KB\n"
     ]
    }
   ],
   "source": [
    "# Encoded version of dataset\n",
    "student_por_encoded.info()"
   ]
  },
  {
   "cell_type": "code",
   "execution_count": 26,
   "metadata": {
    "colab": {
     "base_uri": "https://localhost:8080/"
    },
    "id": "Wt8DbCQCMnG1",
    "outputId": "553b82d8-10c0-4996-c019-010757b4452c"
   },
   "outputs": [
    {
     "name": "stdout",
     "output_type": "stream",
     "text": [
      "train_error: 4.6984, test_error: 5.4471, reg_score: 0.3740\n"
     ]
    }
   ],
   "source": [
    "# Linear Regression\n",
    "# train_error: 4.698426657828137, test_error: 5.446832221841965, reg_score: 0.3739893747237155\n",
    "from sklearn.model_selection import train_test_split\n",
    "from sklearn.linear_model import LinearRegression, Ridge, Lasso\n",
    "from sklearn.metrics import mean_squared_error\n",
    "\n",
    "y_target = student_por_encoded['G1']\n",
    "X_features = student_por_encoded.drop(['G1', 'G2', 'G3'], axis=1, inplace=False)\n",
    "\n",
    "X_train, X_test, y_train, y_test = train_test_split(X_features, y_target, test_size=0.3, random_state=0)\n",
    "\n",
    "lr_reg = LinearRegression()\n",
    "lr_reg.fit(X_train, y_train)\n",
    "train_error = mean_squared_error(y_train, lr_reg.predict(X_train))\n",
    "test_error = mean_squared_error(y_test, lr_reg.predict(X_test))\n",
    "reg_score = lr_reg.score(X_train, y_train)\n",
    "\n",
    "print('train_error: {0:.4f}, test_error: {1:.4f}, reg_score: {2:.4f}'.format(train_error, test_error, reg_score))"
   ]
  },
  {
   "cell_type": "code",
   "execution_count": 27,
   "metadata": {
    "colab": {
     "base_uri": "https://localhost:8080/"
    },
    "id": "tIsRow0DMiY8",
    "outputId": "6a0c0c7b-c283-4de7-c8a9-88c6c292e50e"
   },
   "outputs": [
    {
     "name": "stdout",
     "output_type": "stream",
     "text": [
      "alpha: 0.0, train_error: 4.9198, test_error: 5.7621, reg_score: 0.3445\n",
      "alpha: 1e-08, train_error: 4.6984, test_error: 5.4469, reg_score: 0.3740\n",
      "alpha: 1e-05, train_error: 4.6984, test_error: 5.4469, reg_score: 0.3740\n",
      "alpha: 0.1, train_error: 4.6984, test_error: 5.4457, reg_score: 0.3740\n",
      "alpha: 1, train_error: 4.6987, test_error: 5.4355, reg_score: 0.3740\n",
      "alpha: 10, train_error: 4.7136, test_error: 5.3722, reg_score: 0.3720\n",
      "alpha: 20, train_error: 4.7418, test_error: 5.3438, reg_score: 0.3682\n",
      "alpha: 30, train_error: 4.7741, test_error: 5.3352, reg_score: 0.3639\n",
      "alpha: 50, train_error: 4.8413, test_error: 5.3453, reg_score: 0.3550\n"
     ]
    }
   ],
   "source": [
    "# Ridge Regression\n",
    "# best alpha: 1, in terms of min(test_error) and max(r^2 score)\n",
    "# alpha: 1, train_error: 4.6987, test_error: 5.4355, reg_score: 0.3740\n",
    "alphas = [0.0, 1e-8, 1e-5, 0.1, 1, 10, 20, 30, 50]\n",
    "\n",
    "for alpha in alphas:\n",
    "    ridge_reg = Ridge(alpha=alpha)\n",
    "    ridge_reg.fit(X_train, y_train)\n",
    "    train_error = mean_squared_error(y_train, ridge_reg.predict(X_train))\n",
    "    test_error = mean_squared_error(y_test, ridge_reg.predict(X_test))\n",
    "    reg_score = ridge_reg.score(X_train, y_train)    \n",
    "    \n",
    "    print('alpha: {0}, train_error: {1:.4f}, test_error: {2:.4f}, reg_score: {3:.4f}'.format(alpha, train_error, test_error, reg_score))"
   ]
  },
  {
   "cell_type": "code",
   "execution_count": 28,
   "metadata": {
    "colab": {
     "base_uri": "https://localhost:8080/"
    },
    "id": "i5cH3FnEOdwa",
    "outputId": "6c22706c-a7ae-45e4-8b2d-0b97b17eadba"
   },
   "outputs": [
    {
     "name": "stdout",
     "output_type": "stream",
     "text": [
      "alpha: 0.0, train_error: 4.6984, test_error: 5.4469, reg_score: 0.3740\n",
      "alpha: 1e-08, train_error: 4.6984, test_error: 5.4469, reg_score: 0.3740\n",
      "alpha: 1e-05, train_error: 4.6984, test_error: 5.4468, reg_score: 0.3740\n",
      "alpha: 0.1, train_error: 5.3312, test_error: 5.5378, reg_score: 0.2897\n",
      "alpha: 1, train_error: 7.3752, test_error: 7.4690, reg_score: 0.0173\n",
      "alpha: 10, train_error: 7.5053, test_error: 7.5704, reg_score: 0.0000\n",
      "alpha: 20, train_error: 7.5053, test_error: 7.5704, reg_score: 0.0000\n",
      "alpha: 30, train_error: 7.5053, test_error: 7.5704, reg_score: 0.0000\n",
      "alpha: 50, train_error: 7.5053, test_error: 7.5704, reg_score: 0.0000\n"
     ]
    }
   ],
   "source": [
    "# Lasso Regression\n",
    "alphas = [0.0, 1e-8, 1e-5, 0.1, 1, 10, 20, 30, 50]\n",
    "# best alpha: 1e-05, in terms of min(test_error) and max(r^2 score)\n",
    "# alpha: 1e-05, train_error: 4.6984, test_error: 5.4468, reg_score: 0.3740\n",
    "\n",
    "for alpha in alphas:\n",
    "    lasso_reg = Lasso(alpha=alpha)\n",
    "    lasso_reg.fit(X_train, y_train)\n",
    "    train_error = mean_squared_error(y_train, lasso_reg.predict(X_train))\n",
    "    test_error = mean_squared_error(y_test, lasso_reg.predict(X_test))\n",
    "    reg_score = lasso_reg.score(X_train, y_train)    \n",
    "    \n",
    "    print('alpha: {0}, train_error: {1:.4f}, test_error: {2:.4f}, reg_score: {3:.4f}'.format(alpha, train_error, test_error, reg_score))"
   ]
  },
  {
   "cell_type": "code",
   "execution_count": 29,
   "metadata": {
    "colab": {
     "base_uri": "https://localhost:8080/",
     "height": 434
    },
    "id": "uZCp0MmjP_0g",
    "outputId": "c072be73-c105-44e6-9f6e-4e18d3ff37dc"
   },
   "outputs": [
    {
     "data": {
      "text/plain": [
       "<AxesSubplot:>"
      ]
     },
     "execution_count": 29,
     "metadata": {},
     "output_type": "execute_result"
    },
    {
     "data": {
      "image/png": "[encoded data removed]",
      "text/plain": [
       "<Figure size 1800x576 with 1 Axes>"
      ]
     },
     "metadata": {
      "needs_background": "light"
     },
     "output_type": "display_data"
    }
   ],
   "source": [
    "# Visualizing relationships between features and target\n",
    "# 1) Willingness to take higher education is the strongest feature, which makes sense in terms of motivation of studying\n",
    "# Other features such as mom's job: teacher, long studytime, educated mom makes sense \n",
    "\n",
    "# 2) However, some features didn't make sense, so trying to compare and conduct null hypothesis testing to see what is happening \n",
    "# No extra educational support leads to good grade doesn't make sense\n",
    "# -> maybe due to low data, outliers might distorted the result\n",
    "\n",
    "# School_GP is a positive factor to get a good grade\n",
    "# -> Why? Is School_GP better school? \n",
    "\n",
    "ridge_reg = Ridge(alpha=1)\n",
    "ridge_reg.fit(X_train, y_train)\n",
    "\n",
    "plt.figure(figsize=(25,8))\n",
    "coef = pd.Series(ridge_reg.coef_, index=X_train.columns)\n",
    "coef_sort = coef.sort_values(ascending=False)[:20]\n",
    "sns.barplot(x=coef_sort.values, y=coef_sort.index)"
   ]
  },
  {
   "cell_type": "code",
   "execution_count": 30,
   "metadata": {
    "colab": {
     "base_uri": "https://localhost:8080/"
    },
    "id": "DfT41B6xBfky",
    "outputId": "235d1355-3686-4985-9b87-59d5ae77c767"
   },
   "outputs": [
    {
     "data": {
      "text/plain": [
       "(11.46643717728055, 10.823529411764707)"
      ]
     },
     "execution_count": 30,
     "metadata": {},
     "output_type": "execute_result"
    }
   ],
   "source": [
    "# Is this factor(No extra educational support) statistically significant?\n",
    "# Comparing G1 scores for schoolsup = yes vs schoolsup = no\n",
    "np.mean(student_por[student_por['schoolsup'] == 'no']['G1']), np.mean(student_por[student_por['schoolsup'] == 'yes']['G1'])"
   ]
  },
  {
   "cell_type": "code",
   "execution_count": 31,
   "metadata": {
    "colab": {
     "base_uri": "https://localhost:8080/",
     "height": 427
    },
    "id": "LUi7CC3oBfqX",
    "outputId": "c78cc790-91ff-4c8f-a23a-af389aff8b7b"
   },
   "outputs": [
    {
     "data": {
      "text/html": [
       "<div>\n",
       "<style scoped>\n",
       "    .dataframe tbody tr th:only-of-type {\n",
       "        vertical-align: middle;\n",
       "    }\n",
       "\n",
       "    .dataframe tbody tr th {\n",
       "        vertical-align: top;\n",
       "    }\n",
       "\n",
       "    .dataframe thead th {\n",
       "        text-align: right;\n",
       "    }\n",
       "</style>\n",
       "<table border=\"1\" class=\"dataframe\">\n",
       "  <thead>\n",
       "    <tr style=\"text-align: right;\">\n",
       "      <th></th>\n",
       "      <th>school</th>\n",
       "      <th>sex</th>\n",
       "      <th>age</th>\n",
       "      <th>address</th>\n",
       "      <th>famsize</th>\n",
       "      <th>Pstatus</th>\n",
       "      <th>Medu</th>\n",
       "      <th>Fedu</th>\n",
       "      <th>Mjob</th>\n",
       "      <th>Fjob</th>\n",
       "      <th>reason</th>\n",
       "      <th>guardian</th>\n",
       "      <th>traveltime</th>\n",
       "      <th>studytime</th>\n",
       "      <th>failures</th>\n",
       "      <th>schoolsup</th>\n",
       "      <th>famsup</th>\n",
       "      <th>paid</th>\n",
       "      <th>activities</th>\n",
       "      <th>nursery</th>\n",
       "      <th>higher</th>\n",
       "      <th>internet</th>\n",
       "      <th>romantic</th>\n",
       "      <th>famrel</th>\n",
       "      <th>freetime</th>\n",
       "      <th>goout</th>\n",
       "      <th>Dalc</th>\n",
       "      <th>Walc</th>\n",
       "      <th>health</th>\n",
       "      <th>absences</th>\n",
       "      <th>G1</th>\n",
       "      <th>G2</th>\n",
       "      <th>G3</th>\n",
       "    </tr>\n",
       "  </thead>\n",
       "  <tbody>\n",
       "    <tr>\n",
       "      <th>0</th>\n",
       "      <td>GP</td>\n",
       "      <td>F</td>\n",
       "      <td>18</td>\n",
       "      <td>U</td>\n",
       "      <td>GT3</td>\n",
       "      <td>A</td>\n",
       "      <td>4</td>\n",
       "      <td>4</td>\n",
       "      <td>at_home</td>\n",
       "      <td>teacher</td>\n",
       "      <td>course</td>\n",
       "      <td>mother</td>\n",
       "      <td>2</td>\n",
       "      <td>2 to 5 hours</td>\n",
       "      <td>0</td>\n",
       "      <td>yes</td>\n",
       "      <td>no</td>\n",
       "      <td>no</td>\n",
       "      <td>no</td>\n",
       "      <td>yes</td>\n",
       "      <td>yes</td>\n",
       "      <td>no</td>\n",
       "      <td>no</td>\n",
       "      <td>4</td>\n",
       "      <td>3</td>\n",
       "      <td>4</td>\n",
       "      <td>1</td>\n",
       "      <td>1</td>\n",
       "      <td>3</td>\n",
       "      <td>4</td>\n",
       "      <td>0</td>\n",
       "      <td>11</td>\n",
       "      <td>11</td>\n",
       "    </tr>\n",
       "    <tr>\n",
       "      <th>567</th>\n",
       "      <td>MS</td>\n",
       "      <td>M</td>\n",
       "      <td>18</td>\n",
       "      <td>R</td>\n",
       "      <td>GT3</td>\n",
       "      <td>T</td>\n",
       "      <td>3</td>\n",
       "      <td>2</td>\n",
       "      <td>services</td>\n",
       "      <td>other</td>\n",
       "      <td>course</td>\n",
       "      <td>mother</td>\n",
       "      <td>1</td>\n",
       "      <td>&lt; 2 hours</td>\n",
       "      <td>1</td>\n",
       "      <td>no</td>\n",
       "      <td>no</td>\n",
       "      <td>no</td>\n",
       "      <td>no</td>\n",
       "      <td>yes</td>\n",
       "      <td>no</td>\n",
       "      <td>yes</td>\n",
       "      <td>no</td>\n",
       "      <td>2</td>\n",
       "      <td>3</td>\n",
       "      <td>1</td>\n",
       "      <td>2</td>\n",
       "      <td>2</td>\n",
       "      <td>5</td>\n",
       "      <td>0</td>\n",
       "      <td>4</td>\n",
       "      <td>0</td>\n",
       "      <td>0</td>\n",
       "    </tr>\n",
       "    <tr>\n",
       "      <th>569</th>\n",
       "      <td>MS</td>\n",
       "      <td>M</td>\n",
       "      <td>18</td>\n",
       "      <td>U</td>\n",
       "      <td>GT3</td>\n",
       "      <td>T</td>\n",
       "      <td>3</td>\n",
       "      <td>3</td>\n",
       "      <td>at_home</td>\n",
       "      <td>at_home</td>\n",
       "      <td>course</td>\n",
       "      <td>mother</td>\n",
       "      <td>1</td>\n",
       "      <td>2 to 5 hours</td>\n",
       "      <td>2</td>\n",
       "      <td>no</td>\n",
       "      <td>yes</td>\n",
       "      <td>no</td>\n",
       "      <td>yes</td>\n",
       "      <td>yes</td>\n",
       "      <td>no</td>\n",
       "      <td>yes</td>\n",
       "      <td>no</td>\n",
       "      <td>4</td>\n",
       "      <td>4</td>\n",
       "      <td>5</td>\n",
       "      <td>1</td>\n",
       "      <td>3</td>\n",
       "      <td>3</td>\n",
       "      <td>9</td>\n",
       "      <td>4</td>\n",
       "      <td>8</td>\n",
       "      <td>8</td>\n",
       "    </tr>\n",
       "    <tr>\n",
       "      <th>523</th>\n",
       "      <td>MS</td>\n",
       "      <td>M</td>\n",
       "      <td>18</td>\n",
       "      <td>U</td>\n",
       "      <td>LE3</td>\n",
       "      <td>T</td>\n",
       "      <td>4</td>\n",
       "      <td>4</td>\n",
       "      <td>at_home</td>\n",
       "      <td>health</td>\n",
       "      <td>home</td>\n",
       "      <td>mother</td>\n",
       "      <td>1</td>\n",
       "      <td>&gt; 10 hours</td>\n",
       "      <td>0</td>\n",
       "      <td>no</td>\n",
       "      <td>yes</td>\n",
       "      <td>no</td>\n",
       "      <td>yes</td>\n",
       "      <td>yes</td>\n",
       "      <td>no</td>\n",
       "      <td>yes</td>\n",
       "      <td>yes</td>\n",
       "      <td>5</td>\n",
       "      <td>5</td>\n",
       "      <td>5</td>\n",
       "      <td>5</td>\n",
       "      <td>5</td>\n",
       "      <td>5</td>\n",
       "      <td>2</td>\n",
       "      <td>5</td>\n",
       "      <td>6</td>\n",
       "      <td>6</td>\n",
       "    </tr>\n",
       "    <tr>\n",
       "      <th>603</th>\n",
       "      <td>MS</td>\n",
       "      <td>F</td>\n",
       "      <td>18</td>\n",
       "      <td>R</td>\n",
       "      <td>LE3</td>\n",
       "      <td>A</td>\n",
       "      <td>4</td>\n",
       "      <td>2</td>\n",
       "      <td>teacher</td>\n",
       "      <td>other</td>\n",
       "      <td>reputation</td>\n",
       "      <td>mother</td>\n",
       "      <td>1</td>\n",
       "      <td>2 to 5 hours</td>\n",
       "      <td>0</td>\n",
       "      <td>no</td>\n",
       "      <td>no</td>\n",
       "      <td>no</td>\n",
       "      <td>yes</td>\n",
       "      <td>yes</td>\n",
       "      <td>yes</td>\n",
       "      <td>yes</td>\n",
       "      <td>yes</td>\n",
       "      <td>5</td>\n",
       "      <td>3</td>\n",
       "      <td>1</td>\n",
       "      <td>1</td>\n",
       "      <td>1</td>\n",
       "      <td>5</td>\n",
       "      <td>0</td>\n",
       "      <td>5</td>\n",
       "      <td>0</td>\n",
       "      <td>0</td>\n",
       "    </tr>\n",
       "    <tr>\n",
       "      <th>605</th>\n",
       "      <td>MS</td>\n",
       "      <td>F</td>\n",
       "      <td>19</td>\n",
       "      <td>U</td>\n",
       "      <td>GT3</td>\n",
       "      <td>T</td>\n",
       "      <td>1</td>\n",
       "      <td>1</td>\n",
       "      <td>at_home</td>\n",
       "      <td>services</td>\n",
       "      <td>other</td>\n",
       "      <td>father</td>\n",
       "      <td>2</td>\n",
       "      <td>&lt; 2 hours</td>\n",
       "      <td>1</td>\n",
       "      <td>no</td>\n",
       "      <td>no</td>\n",
       "      <td>no</td>\n",
       "      <td>no</td>\n",
       "      <td>yes</td>\n",
       "      <td>no</td>\n",
       "      <td>no</td>\n",
       "      <td>no</td>\n",
       "      <td>5</td>\n",
       "      <td>5</td>\n",
       "      <td>5</td>\n",
       "      <td>2</td>\n",
       "      <td>3</td>\n",
       "      <td>2</td>\n",
       "      <td>0</td>\n",
       "      <td>5</td>\n",
       "      <td>0</td>\n",
       "      <td>0</td>\n",
       "    </tr>\n",
       "    <tr>\n",
       "      <th>572</th>\n",
       "      <td>MS</td>\n",
       "      <td>F</td>\n",
       "      <td>16</td>\n",
       "      <td>U</td>\n",
       "      <td>GT3</td>\n",
       "      <td>A</td>\n",
       "      <td>3</td>\n",
       "      <td>2</td>\n",
       "      <td>services</td>\n",
       "      <td>at_home</td>\n",
       "      <td>course</td>\n",
       "      <td>mother</td>\n",
       "      <td>2</td>\n",
       "      <td>2 to 5 hours</td>\n",
       "      <td>2</td>\n",
       "      <td>no</td>\n",
       "      <td>yes</td>\n",
       "      <td>no</td>\n",
       "      <td>yes</td>\n",
       "      <td>yes</td>\n",
       "      <td>yes</td>\n",
       "      <td>no</td>\n",
       "      <td>yes</td>\n",
       "      <td>2</td>\n",
       "      <td>5</td>\n",
       "      <td>5</td>\n",
       "      <td>1</td>\n",
       "      <td>1</td>\n",
       "      <td>1</td>\n",
       "      <td>8</td>\n",
       "      <td>5</td>\n",
       "      <td>5</td>\n",
       "      <td>7</td>\n",
       "    </tr>\n",
       "    <tr>\n",
       "      <th>639</th>\n",
       "      <td>MS</td>\n",
       "      <td>M</td>\n",
       "      <td>19</td>\n",
       "      <td>R</td>\n",
       "      <td>GT3</td>\n",
       "      <td>T</td>\n",
       "      <td>1</td>\n",
       "      <td>1</td>\n",
       "      <td>other</td>\n",
       "      <td>services</td>\n",
       "      <td>other</td>\n",
       "      <td>mother</td>\n",
       "      <td>2</td>\n",
       "      <td>&lt; 2 hours</td>\n",
       "      <td>1</td>\n",
       "      <td>no</td>\n",
       "      <td>no</td>\n",
       "      <td>no</td>\n",
       "      <td>no</td>\n",
       "      <td>yes</td>\n",
       "      <td>yes</td>\n",
       "      <td>no</td>\n",
       "      <td>no</td>\n",
       "      <td>4</td>\n",
       "      <td>3</td>\n",
       "      <td>2</td>\n",
       "      <td>1</td>\n",
       "      <td>3</td>\n",
       "      <td>5</td>\n",
       "      <td>0</td>\n",
       "      <td>5</td>\n",
       "      <td>8</td>\n",
       "      <td>0</td>\n",
       "    </tr>\n",
       "    <tr>\n",
       "      <th>568</th>\n",
       "      <td>MS</td>\n",
       "      <td>M</td>\n",
       "      <td>19</td>\n",
       "      <td>U</td>\n",
       "      <td>GT3</td>\n",
       "      <td>T</td>\n",
       "      <td>3</td>\n",
       "      <td>2</td>\n",
       "      <td>at_home</td>\n",
       "      <td>services</td>\n",
       "      <td>course</td>\n",
       "      <td>mother</td>\n",
       "      <td>2</td>\n",
       "      <td>&lt; 2 hours</td>\n",
       "      <td>3</td>\n",
       "      <td>no</td>\n",
       "      <td>no</td>\n",
       "      <td>no</td>\n",
       "      <td>yes</td>\n",
       "      <td>yes</td>\n",
       "      <td>yes</td>\n",
       "      <td>no</td>\n",
       "      <td>no</td>\n",
       "      <td>3</td>\n",
       "      <td>2</td>\n",
       "      <td>1</td>\n",
       "      <td>1</td>\n",
       "      <td>1</td>\n",
       "      <td>3</td>\n",
       "      <td>4</td>\n",
       "      <td>6</td>\n",
       "      <td>11</td>\n",
       "      <td>9</td>\n",
       "    </tr>\n",
       "    <tr>\n",
       "      <th>436</th>\n",
       "      <td>MS</td>\n",
       "      <td>F</td>\n",
       "      <td>15</td>\n",
       "      <td>R</td>\n",
       "      <td>LE3</td>\n",
       "      <td>T</td>\n",
       "      <td>1</td>\n",
       "      <td>1</td>\n",
       "      <td>other</td>\n",
       "      <td>services</td>\n",
       "      <td>course</td>\n",
       "      <td>mother</td>\n",
       "      <td>2</td>\n",
       "      <td>&lt; 2 hours</td>\n",
       "      <td>1</td>\n",
       "      <td>no</td>\n",
       "      <td>yes</td>\n",
       "      <td>no</td>\n",
       "      <td>no</td>\n",
       "      <td>yes</td>\n",
       "      <td>yes</td>\n",
       "      <td>yes</td>\n",
       "      <td>yes</td>\n",
       "      <td>4</td>\n",
       "      <td>4</td>\n",
       "      <td>3</td>\n",
       "      <td>1</td>\n",
       "      <td>2</td>\n",
       "      <td>2</td>\n",
       "      <td>4</td>\n",
       "      <td>6</td>\n",
       "      <td>7</td>\n",
       "      <td>8</td>\n",
       "    </tr>\n",
       "  </tbody>\n",
       "</table>\n",
       "</div>"
      ],
      "text/plain": [
       "    school sex  age address famsize Pstatus  Medu  Fedu      Mjob      Fjob  \\\n",
       "0       GP   F   18       U     GT3       A     4     4   at_home   teacher   \n",
       "567     MS   M   18       R     GT3       T     3     2  services     other   \n",
       "569     MS   M   18       U     GT3       T     3     3   at_home   at_home   \n",
       "523     MS   M   18       U     LE3       T     4     4   at_home    health   \n",
       "603     MS   F   18       R     LE3       A     4     2   teacher     other   \n",
       "605     MS   F   19       U     GT3       T     1     1   at_home  services   \n",
       "572     MS   F   16       U     GT3       A     3     2  services   at_home   \n",
       "639     MS   M   19       R     GT3       T     1     1     other  services   \n",
       "568     MS   M   19       U     GT3       T     3     2   at_home  services   \n",
       "436     MS   F   15       R     LE3       T     1     1     other  services   \n",
       "\n",
       "         reason guardian  traveltime     studytime  failures schoolsup famsup  \\\n",
       "0        course   mother           2  2 to 5 hours         0       yes     no   \n",
       "567      course   mother           1     < 2 hours         1        no     no   \n",
       "569      course   mother           1  2 to 5 hours         2        no    yes   \n",
       "523        home   mother           1    > 10 hours         0        no    yes   \n",
       "603  reputation   mother           1  2 to 5 hours         0        no     no   \n",
       "605       other   father           2     < 2 hours         1        no     no   \n",
       "572      course   mother           2  2 to 5 hours         2        no    yes   \n",
       "639       other   mother           2     < 2 hours         1        no     no   \n",
       "568      course   mother           2     < 2 hours         3        no     no   \n",
       "436      course   mother           2     < 2 hours         1        no    yes   \n",
       "\n",
       "    paid activities nursery higher internet romantic  famrel  freetime  goout  \\\n",
       "0     no         no     yes    yes       no       no       4         3      4   \n",
       "567   no         no     yes     no      yes       no       2         3      1   \n",
       "569   no        yes     yes     no      yes       no       4         4      5   \n",
       "523   no        yes     yes     no      yes      yes       5         5      5   \n",
       "603   no        yes     yes    yes      yes      yes       5         3      1   \n",
       "605   no         no     yes     no       no       no       5         5      5   \n",
       "572   no        yes     yes    yes       no      yes       2         5      5   \n",
       "639   no         no     yes    yes       no       no       4         3      2   \n",
       "568   no        yes     yes    yes       no       no       3         2      1   \n",
       "436   no         no     yes    yes      yes      yes       4         4      3   \n",
       "\n",
       "     Dalc  Walc  health  absences  G1  G2  G3  \n",
       "0       1     1       3         4   0  11  11  \n",
       "567     2     2       5         0   4   0   0  \n",
       "569     1     3       3         9   4   8   8  \n",
       "523     5     5       5         2   5   6   6  \n",
       "603     1     1       5         0   5   0   0  \n",
       "605     2     3       2         0   5   0   0  \n",
       "572     1     1       1         8   5   5   7  \n",
       "639     1     3       5         0   5   8   0  \n",
       "568     1     1       3         4   6  11   9  \n",
       "436     1     2       2         4   6   7   8  "
      ]
     },
     "execution_count": 31,
     "metadata": {},
     "output_type": "execute_result"
    }
   ],
   "source": [
    "# first line - G1, G2, G3 : [0, 11, 11] looks really odd \n",
    "student_por.sort_values(by='G1')[:10]"
   ]
  },
  {
   "cell_type": "code",
   "execution_count": 32,
   "metadata": {
    "id": "BzywnsirJt_j"
   },
   "outputs": [],
   "source": [
    "# Conducting U test\n",
    "extra_no = student_por[student_por['schoolsup'] == 'no']['G1']\n",
    "extra_yes = student_por[student_por['schoolsup'] == 'yes']['G1']"
   ]
  },
  {
   "cell_type": "code",
   "execution_count": 33,
   "metadata": {
    "colab": {
     "base_uri": "https://localhost:8080/",
     "height": 371
    },
    "id": "AJDcm-E0LX5P",
    "outputId": "392e4f9e-ae7d-4145-ff25-438f651b7af7"
   },
   "outputs": [
    {
     "data": {
      "image/png": "[encoded data removed]",
      "text/plain": [
       "<Figure size 2880x720 with 2 Axes>"
      ]
     },
     "metadata": {
      "needs_background": "light"
     },
     "output_type": "display_data"
    }
   ],
   "source": [
    "fig, ax = plt.subplots(nrows=1, ncols=2, figsize=(40,10))\n",
    "\n",
    "ax[0].set_title('Extra support: No', pad=20, fontdict = {'fontsize': 20})\n",
    "ax[1].set_title('Extra support: Yes', pad=20, fontdict = {'fontsize': 20})\n",
    "\n",
    "ax[0].hist(extra_no)\n",
    "ax[1].hist(extra_yes)\n",
    "plt.show()"
   ]
  },
  {
   "cell_type": "code",
   "execution_count": 34,
   "metadata": {
    "colab": {
     "base_uri": "https://localhost:8080/"
    },
    "id": "rh6sNy1EKqLn",
    "outputId": "776eb4c3-1aff-428b-cd32-9114925db5a8"
   },
   "outputs": [
    {
     "data": {
      "text/plain": [
       "(22164.0, 0.09747134927918116)"
      ]
     },
     "execution_count": 34,
     "metadata": {},
     "output_type": "execute_result"
    }
   ],
   "source": [
    "# Null Hypothesis testing: students grades have no difference given extra support\n",
    "# Less than 0.05, so reject null hypothesis that student grades have no difference given extra support \n",
    "\n",
    "# We can conclude that extra support has an effect but if is surprising to see that having no extra support actually helps more\n",
    "\n",
    "u1, p1 = stats.mannwhitneyu(extra_no, extra_yes)\n",
    "u1, p1"
   ]
  },
  {
   "cell_type": "markdown",
   "metadata": {
    "id": "Q5bs3uAbM347"
   },
   "source": [
    "- School GP vs MS"
   ]
  },
  {
   "cell_type": "code",
   "execution_count": 35,
   "metadata": {
    "colab": {
     "base_uri": "https://localhost:8080/"
    },
    "id": "_TtCkm-2K187",
    "outputId": "ee7f598b-26f1-4797-9588-98b975bb26d0"
   },
   "outputs": [
    {
     "data": {
      "text/plain": [
       "(11.98581560283688, 10.300884955752212)"
      ]
     },
     "execution_count": 35,
     "metadata": {},
     "output_type": "execute_result"
    }
   ],
   "source": [
    "# Is this factor(School difference) statistically significant?\n",
    "# Comparing G1 scores for schoolsup = yes vs schoolsup = no\n",
    "np.mean(student_por[student_por['school'] == 'GP']['G1']), np.mean(student_por[student_por['school'] == 'MS']['G1'])"
   ]
  },
  {
   "cell_type": "code",
   "execution_count": 36,
   "metadata": {
    "id": "vgYvEKY7NCeo"
   },
   "outputs": [],
   "source": [
    "# Conducting u-test (if we assume that those are samples)\n",
    "school_gp = student_por[student_por['school'] == 'GP']['G1']\n",
    "school_ms = student_por[student_por['school'] == 'MS']['G1']"
   ]
  },
  {
   "cell_type": "code",
   "execution_count": 37,
   "metadata": {
    "colab": {
     "base_uri": "https://localhost:8080/",
     "height": 371
    },
    "id": "evVl6uJdNT6o",
    "outputId": "79bb1912-f62d-4ae2-bb56-3355b120a213"
   },
   "outputs": [
    {
     "data": {
      "image/png": "[encoded data removed]",
      "text/plain": [
       "<Figure size 2880x720 with 2 Axes>"
      ]
     },
     "metadata": {
      "needs_background": "light"
     },
     "output_type": "display_data"
    }
   ],
   "source": [
    "fig, ax = plt.subplots(nrows=1, ncols=2, figsize=(40,10))\n",
    "\n",
    "ax[0].set_title('School: GP', pad=20, fontdict = {'fontsize': 20})\n",
    "ax[1].set_title('School: MS', pad=20, fontdict = {'fontsize': 20})\n",
    "\n",
    "ax[0].hist(school_gp)\n",
    "ax[1].hist(school_ms)\n",
    "plt.show()"
   ]
  },
  {
   "cell_type": "code",
   "execution_count": 38,
   "metadata": {
    "colab": {
     "base_uri": "https://localhost:8080/"
    },
    "id": "my5KJyRCNbX4",
    "outputId": "43cf8f7e-25c8-4e5c-df52-759362a99a51"
   },
   "outputs": [
    {
     "data": {
      "text/plain": [
       "(65201.0, 1.4239582478483665e-14)"
      ]
     },
     "execution_count": 38,
     "metadata": {},
     "output_type": "execute_result"
    }
   ],
   "source": [
    "# Null Hypothesis testing: students grades have no difference given different school\n",
    "# Less than 0.05, so reject null hypothesis that there are no difference\n",
    "# We can also know this by distribution above, but why?\n",
    "\n",
    "u2, p2 = stats.mannwhitneyu(school_gp, school_ms)\n",
    "u2, p2"
   ]
  },
  {
   "cell_type": "markdown",
   "metadata": {
    "id": "qcfKSrGsN2AD"
   },
   "source": [
    "## What makes School GP different from School MS in terms of grade?"
   ]
  },
  {
   "cell_type": "markdown",
   "metadata": {
    "id": "wNE5Vh_CN8oA"
   },
   "source": [
    "- In this question, I will create decision tree classifier to see what makes two schools different in terms of grade"
   ]
  },
  {
   "cell_type": "code",
   "execution_count": 39,
   "metadata": {
    "id": "PmjUlFViN4XZ"
   },
   "outputs": [],
   "source": [
    "# recalling dataset \n",
    "student_por_v2 =  pd.read_csv('./student-por.csv')"
   ]
  },
  {
   "cell_type": "code",
   "execution_count": 40,
   "metadata": {
    "id": "6Np1krVAOMZG"
   },
   "outputs": [],
   "source": [
    "# In terms of target value, it should be binomial (0 or 1)\n",
    "# Assumption: movie ratings can be classified as Good rating(1, rating >= 2.0) or Bad rating(0, rating < 2.0)\n",
    "# Create a function that changes movie ratings into Good/bad rating\n",
    "\n",
    "def school_binomial(school):\n",
    "    \n",
    "    if school == 'GP' : school = 1\n",
    "    else: school = 0       \n",
    "        \n",
    "    return school\n",
    "\n",
    "student_por_v2['school'] = student_por_v2['school'].apply(lambda x: school_binomial(x))"
   ]
  },
  {
   "cell_type": "code",
   "execution_count": 41,
   "metadata": {
    "colab": {
     "base_uri": "https://localhost:8080/",
     "height": 488
    },
    "id": "lzNUwiUmOrjE",
    "outputId": "aff47678-fe21-47a5-f3fe-cb358b2e9018"
   },
   "outputs": [
    {
     "data": {
      "text/html": [
       "<div>\n",
       "<style scoped>\n",
       "    .dataframe tbody tr th:only-of-type {\n",
       "        vertical-align: middle;\n",
       "    }\n",
       "\n",
       "    .dataframe tbody tr th {\n",
       "        vertical-align: top;\n",
       "    }\n",
       "\n",
       "    .dataframe thead th {\n",
       "        text-align: right;\n",
       "    }\n",
       "</style>\n",
       "<table border=\"1\" class=\"dataframe\">\n",
       "  <thead>\n",
       "    <tr style=\"text-align: right;\">\n",
       "      <th></th>\n",
       "      <th>school</th>\n",
       "      <th>sex</th>\n",
       "      <th>age</th>\n",
       "      <th>address</th>\n",
       "      <th>famsize</th>\n",
       "      <th>Pstatus</th>\n",
       "      <th>Medu</th>\n",
       "      <th>Fedu</th>\n",
       "      <th>Mjob</th>\n",
       "      <th>Fjob</th>\n",
       "      <th>reason</th>\n",
       "      <th>guardian</th>\n",
       "      <th>traveltime</th>\n",
       "      <th>studytime</th>\n",
       "      <th>failures</th>\n",
       "      <th>schoolsup</th>\n",
       "      <th>famsup</th>\n",
       "      <th>paid</th>\n",
       "      <th>activities</th>\n",
       "      <th>nursery</th>\n",
       "      <th>higher</th>\n",
       "      <th>internet</th>\n",
       "      <th>romantic</th>\n",
       "      <th>famrel</th>\n",
       "      <th>freetime</th>\n",
       "      <th>goout</th>\n",
       "      <th>Dalc</th>\n",
       "      <th>Walc</th>\n",
       "      <th>health</th>\n",
       "      <th>absences</th>\n",
       "      <th>G1</th>\n",
       "      <th>G2</th>\n",
       "      <th>G3</th>\n",
       "    </tr>\n",
       "  </thead>\n",
       "  <tbody>\n",
       "    <tr>\n",
       "      <th>0</th>\n",
       "      <td>1</td>\n",
       "      <td>F</td>\n",
       "      <td>18</td>\n",
       "      <td>U</td>\n",
       "      <td>GT3</td>\n",
       "      <td>A</td>\n",
       "      <td>4</td>\n",
       "      <td>4</td>\n",
       "      <td>at_home</td>\n",
       "      <td>teacher</td>\n",
       "      <td>course</td>\n",
       "      <td>mother</td>\n",
       "      <td>2</td>\n",
       "      <td>2</td>\n",
       "      <td>0</td>\n",
       "      <td>yes</td>\n",
       "      <td>no</td>\n",
       "      <td>no</td>\n",
       "      <td>no</td>\n",
       "      <td>yes</td>\n",
       "      <td>yes</td>\n",
       "      <td>no</td>\n",
       "      <td>no</td>\n",
       "      <td>4</td>\n",
       "      <td>3</td>\n",
       "      <td>4</td>\n",
       "      <td>1</td>\n",
       "      <td>1</td>\n",
       "      <td>3</td>\n",
       "      <td>4</td>\n",
       "      <td>0</td>\n",
       "      <td>11</td>\n",
       "      <td>11</td>\n",
       "    </tr>\n",
       "    <tr>\n",
       "      <th>1</th>\n",
       "      <td>1</td>\n",
       "      <td>F</td>\n",
       "      <td>17</td>\n",
       "      <td>U</td>\n",
       "      <td>GT3</td>\n",
       "      <td>T</td>\n",
       "      <td>1</td>\n",
       "      <td>1</td>\n",
       "      <td>at_home</td>\n",
       "      <td>other</td>\n",
       "      <td>course</td>\n",
       "      <td>father</td>\n",
       "      <td>1</td>\n",
       "      <td>2</td>\n",
       "      <td>0</td>\n",
       "      <td>no</td>\n",
       "      <td>yes</td>\n",
       "      <td>no</td>\n",
       "      <td>no</td>\n",
       "      <td>no</td>\n",
       "      <td>yes</td>\n",
       "      <td>yes</td>\n",
       "      <td>no</td>\n",
       "      <td>5</td>\n",
       "      <td>3</td>\n",
       "      <td>3</td>\n",
       "      <td>1</td>\n",
       "      <td>1</td>\n",
       "      <td>3</td>\n",
       "      <td>2</td>\n",
       "      <td>9</td>\n",
       "      <td>11</td>\n",
       "      <td>11</td>\n",
       "    </tr>\n",
       "    <tr>\n",
       "      <th>2</th>\n",
       "      <td>1</td>\n",
       "      <td>F</td>\n",
       "      <td>15</td>\n",
       "      <td>U</td>\n",
       "      <td>LE3</td>\n",
       "      <td>T</td>\n",
       "      <td>1</td>\n",
       "      <td>1</td>\n",
       "      <td>at_home</td>\n",
       "      <td>other</td>\n",
       "      <td>other</td>\n",
       "      <td>mother</td>\n",
       "      <td>1</td>\n",
       "      <td>2</td>\n",
       "      <td>0</td>\n",
       "      <td>yes</td>\n",
       "      <td>no</td>\n",
       "      <td>no</td>\n",
       "      <td>no</td>\n",
       "      <td>yes</td>\n",
       "      <td>yes</td>\n",
       "      <td>yes</td>\n",
       "      <td>no</td>\n",
       "      <td>4</td>\n",
       "      <td>3</td>\n",
       "      <td>2</td>\n",
       "      <td>2</td>\n",
       "      <td>3</td>\n",
       "      <td>3</td>\n",
       "      <td>6</td>\n",
       "      <td>12</td>\n",
       "      <td>13</td>\n",
       "      <td>12</td>\n",
       "    </tr>\n",
       "    <tr>\n",
       "      <th>3</th>\n",
       "      <td>1</td>\n",
       "      <td>F</td>\n",
       "      <td>15</td>\n",
       "      <td>U</td>\n",
       "      <td>GT3</td>\n",
       "      <td>T</td>\n",
       "      <td>4</td>\n",
       "      <td>2</td>\n",
       "      <td>health</td>\n",
       "      <td>services</td>\n",
       "      <td>home</td>\n",
       "      <td>mother</td>\n",
       "      <td>1</td>\n",
       "      <td>3</td>\n",
       "      <td>0</td>\n",
       "      <td>no</td>\n",
       "      <td>yes</td>\n",
       "      <td>no</td>\n",
       "      <td>yes</td>\n",
       "      <td>yes</td>\n",
       "      <td>yes</td>\n",
       "      <td>yes</td>\n",
       "      <td>yes</td>\n",
       "      <td>3</td>\n",
       "      <td>2</td>\n",
       "      <td>2</td>\n",
       "      <td>1</td>\n",
       "      <td>1</td>\n",
       "      <td>5</td>\n",
       "      <td>0</td>\n",
       "      <td>14</td>\n",
       "      <td>14</td>\n",
       "      <td>14</td>\n",
       "    </tr>\n",
       "    <tr>\n",
       "      <th>4</th>\n",
       "      <td>1</td>\n",
       "      <td>F</td>\n",
       "      <td>16</td>\n",
       "      <td>U</td>\n",
       "      <td>GT3</td>\n",
       "      <td>T</td>\n",
       "      <td>3</td>\n",
       "      <td>3</td>\n",
       "      <td>other</td>\n",
       "      <td>other</td>\n",
       "      <td>home</td>\n",
       "      <td>father</td>\n",
       "      <td>1</td>\n",
       "      <td>2</td>\n",
       "      <td>0</td>\n",
       "      <td>no</td>\n",
       "      <td>yes</td>\n",
       "      <td>no</td>\n",
       "      <td>no</td>\n",
       "      <td>yes</td>\n",
       "      <td>yes</td>\n",
       "      <td>no</td>\n",
       "      <td>no</td>\n",
       "      <td>4</td>\n",
       "      <td>3</td>\n",
       "      <td>2</td>\n",
       "      <td>1</td>\n",
       "      <td>2</td>\n",
       "      <td>5</td>\n",
       "      <td>0</td>\n",
       "      <td>11</td>\n",
       "      <td>13</td>\n",
       "      <td>13</td>\n",
       "    </tr>\n",
       "    <tr>\n",
       "      <th>...</th>\n",
       "      <td>...</td>\n",
       "      <td>...</td>\n",
       "      <td>...</td>\n",
       "      <td>...</td>\n",
       "      <td>...</td>\n",
       "      <td>...</td>\n",
       "      <td>...</td>\n",
       "      <td>...</td>\n",
       "      <td>...</td>\n",
       "      <td>...</td>\n",
       "      <td>...</td>\n",
       "      <td>...</td>\n",
       "      <td>...</td>\n",
       "      <td>...</td>\n",
       "      <td>...</td>\n",
       "      <td>...</td>\n",
       "      <td>...</td>\n",
       "      <td>...</td>\n",
       "      <td>...</td>\n",
       "      <td>...</td>\n",
       "      <td>...</td>\n",
       "      <td>...</td>\n",
       "      <td>...</td>\n",
       "      <td>...</td>\n",
       "      <td>...</td>\n",
       "      <td>...</td>\n",
       "      <td>...</td>\n",
       "      <td>...</td>\n",
       "      <td>...</td>\n",
       "      <td>...</td>\n",
       "      <td>...</td>\n",
       "      <td>...</td>\n",
       "      <td>...</td>\n",
       "    </tr>\n",
       "    <tr>\n",
       "      <th>644</th>\n",
       "      <td>0</td>\n",
       "      <td>F</td>\n",
       "      <td>19</td>\n",
       "      <td>R</td>\n",
       "      <td>GT3</td>\n",
       "      <td>T</td>\n",
       "      <td>2</td>\n",
       "      <td>3</td>\n",
       "      <td>services</td>\n",
       "      <td>other</td>\n",
       "      <td>course</td>\n",
       "      <td>mother</td>\n",
       "      <td>1</td>\n",
       "      <td>3</td>\n",
       "      <td>1</td>\n",
       "      <td>no</td>\n",
       "      <td>no</td>\n",
       "      <td>no</td>\n",
       "      <td>yes</td>\n",
       "      <td>no</td>\n",
       "      <td>yes</td>\n",
       "      <td>yes</td>\n",
       "      <td>no</td>\n",
       "      <td>5</td>\n",
       "      <td>4</td>\n",
       "      <td>2</td>\n",
       "      <td>1</td>\n",
       "      <td>2</td>\n",
       "      <td>5</td>\n",
       "      <td>4</td>\n",
       "      <td>10</td>\n",
       "      <td>11</td>\n",
       "      <td>10</td>\n",
       "    </tr>\n",
       "    <tr>\n",
       "      <th>645</th>\n",
       "      <td>0</td>\n",
       "      <td>F</td>\n",
       "      <td>18</td>\n",
       "      <td>U</td>\n",
       "      <td>LE3</td>\n",
       "      <td>T</td>\n",
       "      <td>3</td>\n",
       "      <td>1</td>\n",
       "      <td>teacher</td>\n",
       "      <td>services</td>\n",
       "      <td>course</td>\n",
       "      <td>mother</td>\n",
       "      <td>1</td>\n",
       "      <td>2</td>\n",
       "      <td>0</td>\n",
       "      <td>no</td>\n",
       "      <td>yes</td>\n",
       "      <td>no</td>\n",
       "      <td>no</td>\n",
       "      <td>yes</td>\n",
       "      <td>yes</td>\n",
       "      <td>yes</td>\n",
       "      <td>no</td>\n",
       "      <td>4</td>\n",
       "      <td>3</td>\n",
       "      <td>4</td>\n",
       "      <td>1</td>\n",
       "      <td>1</td>\n",
       "      <td>1</td>\n",
       "      <td>4</td>\n",
       "      <td>15</td>\n",
       "      <td>15</td>\n",
       "      <td>16</td>\n",
       "    </tr>\n",
       "    <tr>\n",
       "      <th>646</th>\n",
       "      <td>0</td>\n",
       "      <td>F</td>\n",
       "      <td>18</td>\n",
       "      <td>U</td>\n",
       "      <td>GT3</td>\n",
       "      <td>T</td>\n",
       "      <td>1</td>\n",
       "      <td>1</td>\n",
       "      <td>other</td>\n",
       "      <td>other</td>\n",
       "      <td>course</td>\n",
       "      <td>mother</td>\n",
       "      <td>2</td>\n",
       "      <td>2</td>\n",
       "      <td>0</td>\n",
       "      <td>no</td>\n",
       "      <td>no</td>\n",
       "      <td>no</td>\n",
       "      <td>yes</td>\n",
       "      <td>yes</td>\n",
       "      <td>yes</td>\n",
       "      <td>no</td>\n",
       "      <td>no</td>\n",
       "      <td>1</td>\n",
       "      <td>1</td>\n",
       "      <td>1</td>\n",
       "      <td>1</td>\n",
       "      <td>1</td>\n",
       "      <td>5</td>\n",
       "      <td>6</td>\n",
       "      <td>11</td>\n",
       "      <td>12</td>\n",
       "      <td>9</td>\n",
       "    </tr>\n",
       "    <tr>\n",
       "      <th>647</th>\n",
       "      <td>0</td>\n",
       "      <td>M</td>\n",
       "      <td>17</td>\n",
       "      <td>U</td>\n",
       "      <td>LE3</td>\n",
       "      <td>T</td>\n",
       "      <td>3</td>\n",
       "      <td>1</td>\n",
       "      <td>services</td>\n",
       "      <td>services</td>\n",
       "      <td>course</td>\n",
       "      <td>mother</td>\n",
       "      <td>2</td>\n",
       "      <td>1</td>\n",
       "      <td>0</td>\n",
       "      <td>no</td>\n",
       "      <td>no</td>\n",
       "      <td>no</td>\n",
       "      <td>no</td>\n",
       "      <td>no</td>\n",
       "      <td>yes</td>\n",
       "      <td>yes</td>\n",
       "      <td>no</td>\n",
       "      <td>2</td>\n",
       "      <td>4</td>\n",
       "      <td>5</td>\n",
       "      <td>3</td>\n",
       "      <td>4</td>\n",
       "      <td>2</td>\n",
       "      <td>6</td>\n",
       "      <td>10</td>\n",
       "      <td>10</td>\n",
       "      <td>10</td>\n",
       "    </tr>\n",
       "    <tr>\n",
       "      <th>648</th>\n",
       "      <td>0</td>\n",
       "      <td>M</td>\n",
       "      <td>18</td>\n",
       "      <td>R</td>\n",
       "      <td>LE3</td>\n",
       "      <td>T</td>\n",
       "      <td>3</td>\n",
       "      <td>2</td>\n",
       "      <td>services</td>\n",
       "      <td>other</td>\n",
       "      <td>course</td>\n",
       "      <td>mother</td>\n",
       "      <td>3</td>\n",
       "      <td>1</td>\n",
       "      <td>0</td>\n",
       "      <td>no</td>\n",
       "      <td>no</td>\n",
       "      <td>no</td>\n",
       "      <td>no</td>\n",
       "      <td>no</td>\n",
       "      <td>yes</td>\n",
       "      <td>yes</td>\n",
       "      <td>no</td>\n",
       "      <td>4</td>\n",
       "      <td>4</td>\n",
       "      <td>1</td>\n",
       "      <td>3</td>\n",
       "      <td>4</td>\n",
       "      <td>5</td>\n",
       "      <td>4</td>\n",
       "      <td>10</td>\n",
       "      <td>11</td>\n",
       "      <td>11</td>\n",
       "    </tr>\n",
       "  </tbody>\n",
       "</table>\n",
       "<p>649 rows × 33 columns</p>\n",
       "</div>"
      ],
      "text/plain": [
       "     school sex  age address famsize Pstatus  Medu  Fedu      Mjob      Fjob  \\\n",
       "0         1   F   18       U     GT3       A     4     4   at_home   teacher   \n",
       "1         1   F   17       U     GT3       T     1     1   at_home     other   \n",
       "2         1   F   15       U     LE3       T     1     1   at_home     other   \n",
       "3         1   F   15       U     GT3       T     4     2    health  services   \n",
       "4         1   F   16       U     GT3       T     3     3     other     other   \n",
       "..      ...  ..  ...     ...     ...     ...   ...   ...       ...       ...   \n",
       "644       0   F   19       R     GT3       T     2     3  services     other   \n",
       "645       0   F   18       U     LE3       T     3     1   teacher  services   \n",
       "646       0   F   18       U     GT3       T     1     1     other     other   \n",
       "647       0   M   17       U     LE3       T     3     1  services  services   \n",
       "648       0   M   18       R     LE3       T     3     2  services     other   \n",
       "\n",
       "     reason guardian  traveltime  studytime  failures schoolsup famsup paid  \\\n",
       "0    course   mother           2          2         0       yes     no   no   \n",
       "1    course   father           1          2         0        no    yes   no   \n",
       "2     other   mother           1          2         0       yes     no   no   \n",
       "3      home   mother           1          3         0        no    yes   no   \n",
       "4      home   father           1          2         0        no    yes   no   \n",
       "..      ...      ...         ...        ...       ...       ...    ...  ...   \n",
       "644  course   mother           1          3         1        no     no   no   \n",
       "645  course   mother           1          2         0        no    yes   no   \n",
       "646  course   mother           2          2         0        no     no   no   \n",
       "647  course   mother           2          1         0        no     no   no   \n",
       "648  course   mother           3          1         0        no     no   no   \n",
       "\n",
       "    activities nursery higher internet romantic  famrel  freetime  goout  \\\n",
       "0           no     yes    yes       no       no       4         3      4   \n",
       "1           no      no    yes      yes       no       5         3      3   \n",
       "2           no     yes    yes      yes       no       4         3      2   \n",
       "3          yes     yes    yes      yes      yes       3         2      2   \n",
       "4           no     yes    yes       no       no       4         3      2   \n",
       "..         ...     ...    ...      ...      ...     ...       ...    ...   \n",
       "644        yes      no    yes      yes       no       5         4      2   \n",
       "645         no     yes    yes      yes       no       4         3      4   \n",
       "646        yes     yes    yes       no       no       1         1      1   \n",
       "647         no      no    yes      yes       no       2         4      5   \n",
       "648         no      no    yes      yes       no       4         4      1   \n",
       "\n",
       "     Dalc  Walc  health  absences  G1  G2  G3  \n",
       "0       1     1       3         4   0  11  11  \n",
       "1       1     1       3         2   9  11  11  \n",
       "2       2     3       3         6  12  13  12  \n",
       "3       1     1       5         0  14  14  14  \n",
       "4       1     2       5         0  11  13  13  \n",
       "..    ...   ...     ...       ...  ..  ..  ..  \n",
       "644     1     2       5         4  10  11  10  \n",
       "645     1     1       1         4  15  15  16  \n",
       "646     1     1       5         6  11  12   9  \n",
       "647     3     4       2         6  10  10  10  \n",
       "648     3     4       5         4  10  11  11  \n",
       "\n",
       "[649 rows x 33 columns]"
      ]
     },
     "execution_count": 41,
     "metadata": {},
     "output_type": "execute_result"
    }
   ],
   "source": [
    "student_por_v2"
   ]
  },
  {
   "cell_type": "code",
   "execution_count": 42,
   "metadata": {
    "id": "1q_7RCloOswn"
   },
   "outputs": [],
   "source": [
    "# dividing numerical columns / categorical columns\n",
    "# for categorical columns, conduct one-hot encoding by using get_dummies function \n",
    "num_col = student_por_v2.describe().columns\n",
    "cat_col = student_por_v2.columns.drop(num_col)\n",
    "\n",
    "student_por_v2_encoded = pd.get_dummies(student_por_v2, columns=cat_col, prefix=cat_col)"
   ]
  },
  {
   "cell_type": "code",
   "execution_count": 43,
   "metadata": {
    "colab": {
     "base_uri": "https://localhost:8080/",
     "height": 488
    },
    "id": "w9PHjg-8O3Jq",
    "outputId": "904af922-3cbc-4915-d619-12940cda62f9"
   },
   "outputs": [
    {
     "data": {
      "text/html": [
       "<div>\n",
       "<style scoped>\n",
       "    .dataframe tbody tr th:only-of-type {\n",
       "        vertical-align: middle;\n",
       "    }\n",
       "\n",
       "    .dataframe tbody tr th {\n",
       "        vertical-align: top;\n",
       "    }\n",
       "\n",
       "    .dataframe thead th {\n",
       "        text-align: right;\n",
       "    }\n",
       "</style>\n",
       "<table border=\"1\" class=\"dataframe\">\n",
       "  <thead>\n",
       "    <tr style=\"text-align: right;\">\n",
       "      <th></th>\n",
       "      <th>school</th>\n",
       "      <th>age</th>\n",
       "      <th>Medu</th>\n",
       "      <th>Fedu</th>\n",
       "      <th>traveltime</th>\n",
       "      <th>studytime</th>\n",
       "      <th>failures</th>\n",
       "      <th>famrel</th>\n",
       "      <th>freetime</th>\n",
       "      <th>goout</th>\n",
       "      <th>Dalc</th>\n",
       "      <th>Walc</th>\n",
       "      <th>health</th>\n",
       "      <th>absences</th>\n",
       "      <th>G1</th>\n",
       "      <th>G2</th>\n",
       "      <th>G3</th>\n",
       "      <th>sex_F</th>\n",
       "      <th>sex_M</th>\n",
       "      <th>address_R</th>\n",
       "      <th>address_U</th>\n",
       "      <th>famsize_GT3</th>\n",
       "      <th>famsize_LE3</th>\n",
       "      <th>Pstatus_A</th>\n",
       "      <th>Pstatus_T</th>\n",
       "      <th>Mjob_at_home</th>\n",
       "      <th>Mjob_health</th>\n",
       "      <th>Mjob_other</th>\n",
       "      <th>Mjob_services</th>\n",
       "      <th>Mjob_teacher</th>\n",
       "      <th>Fjob_at_home</th>\n",
       "      <th>Fjob_health</th>\n",
       "      <th>Fjob_other</th>\n",
       "      <th>Fjob_services</th>\n",
       "      <th>Fjob_teacher</th>\n",
       "      <th>reason_course</th>\n",
       "      <th>reason_home</th>\n",
       "      <th>reason_other</th>\n",
       "      <th>reason_reputation</th>\n",
       "      <th>guardian_father</th>\n",
       "      <th>guardian_mother</th>\n",
       "      <th>guardian_other</th>\n",
       "      <th>schoolsup_no</th>\n",
       "      <th>schoolsup_yes</th>\n",
       "      <th>famsup_no</th>\n",
       "      <th>famsup_yes</th>\n",
       "      <th>paid_no</th>\n",
       "      <th>paid_yes</th>\n",
       "      <th>activities_no</th>\n",
       "      <th>activities_yes</th>\n",
       "      <th>nursery_no</th>\n",
       "      <th>nursery_yes</th>\n",
       "      <th>higher_no</th>\n",
       "      <th>higher_yes</th>\n",
       "      <th>internet_no</th>\n",
       "      <th>internet_yes</th>\n",
       "      <th>romantic_no</th>\n",
       "      <th>romantic_yes</th>\n",
       "    </tr>\n",
       "  </thead>\n",
       "  <tbody>\n",
       "    <tr>\n",
       "      <th>0</th>\n",
       "      <td>1</td>\n",
       "      <td>18</td>\n",
       "      <td>4</td>\n",
       "      <td>4</td>\n",
       "      <td>2</td>\n",
       "      <td>2</td>\n",
       "      <td>0</td>\n",
       "      <td>4</td>\n",
       "      <td>3</td>\n",
       "      <td>4</td>\n",
       "      <td>1</td>\n",
       "      <td>1</td>\n",
       "      <td>3</td>\n",
       "      <td>4</td>\n",
       "      <td>0</td>\n",
       "      <td>11</td>\n",
       "      <td>11</td>\n",
       "      <td>1</td>\n",
       "      <td>0</td>\n",
       "      <td>0</td>\n",
       "      <td>1</td>\n",
       "      <td>1</td>\n",
       "      <td>0</td>\n",
       "      <td>1</td>\n",
       "      <td>0</td>\n",
       "      <td>1</td>\n",
       "      <td>0</td>\n",
       "      <td>0</td>\n",
       "      <td>0</td>\n",
       "      <td>0</td>\n",
       "      <td>0</td>\n",
       "      <td>0</td>\n",
       "      <td>0</td>\n",
       "      <td>0</td>\n",
       "      <td>1</td>\n",
       "      <td>1</td>\n",
       "      <td>0</td>\n",
       "      <td>0</td>\n",
       "      <td>0</td>\n",
       "      <td>0</td>\n",
       "      <td>1</td>\n",
       "      <td>0</td>\n",
       "      <td>0</td>\n",
       "      <td>1</td>\n",
       "      <td>1</td>\n",
       "      <td>0</td>\n",
       "      <td>1</td>\n",
       "      <td>0</td>\n",
       "      <td>1</td>\n",
       "      <td>0</td>\n",
       "      <td>0</td>\n",
       "      <td>1</td>\n",
       "      <td>0</td>\n",
       "      <td>1</td>\n",
       "      <td>1</td>\n",
       "      <td>0</td>\n",
       "      <td>1</td>\n",
       "      <td>0</td>\n",
       "    </tr>\n",
       "    <tr>\n",
       "      <th>1</th>\n",
       "      <td>1</td>\n",
       "      <td>17</td>\n",
       "      <td>1</td>\n",
       "      <td>1</td>\n",
       "      <td>1</td>\n",
       "      <td>2</td>\n",
       "      <td>0</td>\n",
       "      <td>5</td>\n",
       "      <td>3</td>\n",
       "      <td>3</td>\n",
       "      <td>1</td>\n",
       "      <td>1</td>\n",
       "      <td>3</td>\n",
       "      <td>2</td>\n",
       "      <td>9</td>\n",
       "      <td>11</td>\n",
       "      <td>11</td>\n",
       "      <td>1</td>\n",
       "      <td>0</td>\n",
       "      <td>0</td>\n",
       "      <td>1</td>\n",
       "      <td>1</td>\n",
       "      <td>0</td>\n",
       "      <td>0</td>\n",
       "      <td>1</td>\n",
       "      <td>1</td>\n",
       "      <td>0</td>\n",
       "      <td>0</td>\n",
       "      <td>0</td>\n",
       "      <td>0</td>\n",
       "      <td>0</td>\n",
       "      <td>0</td>\n",
       "      <td>1</td>\n",
       "      <td>0</td>\n",
       "      <td>0</td>\n",
       "      <td>1</td>\n",
       "      <td>0</td>\n",
       "      <td>0</td>\n",
       "      <td>0</td>\n",
       "      <td>1</td>\n",
       "      <td>0</td>\n",
       "      <td>0</td>\n",
       "      <td>1</td>\n",
       "      <td>0</td>\n",
       "      <td>0</td>\n",
       "      <td>1</td>\n",
       "      <td>1</td>\n",
       "      <td>0</td>\n",
       "      <td>1</td>\n",
       "      <td>0</td>\n",
       "      <td>1</td>\n",
       "      <td>0</td>\n",
       "      <td>0</td>\n",
       "      <td>1</td>\n",
       "      <td>0</td>\n",
       "      <td>1</td>\n",
       "      <td>1</td>\n",
       "      <td>0</td>\n",
       "    </tr>\n",
       "    <tr>\n",
       "      <th>2</th>\n",
       "      <td>1</td>\n",
       "      <td>15</td>\n",
       "      <td>1</td>\n",
       "      <td>1</td>\n",
       "      <td>1</td>\n",
       "      <td>2</td>\n",
       "      <td>0</td>\n",
       "      <td>4</td>\n",
       "      <td>3</td>\n",
       "      <td>2</td>\n",
       "      <td>2</td>\n",
       "      <td>3</td>\n",
       "      <td>3</td>\n",
       "      <td>6</td>\n",
       "      <td>12</td>\n",
       "      <td>13</td>\n",
       "      <td>12</td>\n",
       "      <td>1</td>\n",
       "      <td>0</td>\n",
       "      <td>0</td>\n",
       "      <td>1</td>\n",
       "      <td>0</td>\n",
       "      <td>1</td>\n",
       "      <td>0</td>\n",
       "      <td>1</td>\n",
       "      <td>1</td>\n",
       "      <td>0</td>\n",
       "      <td>0</td>\n",
       "      <td>0</td>\n",
       "      <td>0</td>\n",
       "      <td>0</td>\n",
       "      <td>0</td>\n",
       "      <td>1</td>\n",
       "      <td>0</td>\n",
       "      <td>0</td>\n",
       "      <td>0</td>\n",
       "      <td>0</td>\n",
       "      <td>1</td>\n",
       "      <td>0</td>\n",
       "      <td>0</td>\n",
       "      <td>1</td>\n",
       "      <td>0</td>\n",
       "      <td>0</td>\n",
       "      <td>1</td>\n",
       "      <td>1</td>\n",
       "      <td>0</td>\n",
       "      <td>1</td>\n",
       "      <td>0</td>\n",
       "      <td>1</td>\n",
       "      <td>0</td>\n",
       "      <td>0</td>\n",
       "      <td>1</td>\n",
       "      <td>0</td>\n",
       "      <td>1</td>\n",
       "      <td>0</td>\n",
       "      <td>1</td>\n",
       "      <td>1</td>\n",
       "      <td>0</td>\n",
       "    </tr>\n",
       "    <tr>\n",
       "      <th>3</th>\n",
       "      <td>1</td>\n",
       "      <td>15</td>\n",
       "      <td>4</td>\n",
       "      <td>2</td>\n",
       "      <td>1</td>\n",
       "      <td>3</td>\n",
       "      <td>0</td>\n",
       "      <td>3</td>\n",
       "      <td>2</td>\n",
       "      <td>2</td>\n",
       "      <td>1</td>\n",
       "      <td>1</td>\n",
       "      <td>5</td>\n",
       "      <td>0</td>\n",
       "      <td>14</td>\n",
       "      <td>14</td>\n",
       "      <td>14</td>\n",
       "      <td>1</td>\n",
       "      <td>0</td>\n",
       "      <td>0</td>\n",
       "      <td>1</td>\n",
       "      <td>1</td>\n",
       "      <td>0</td>\n",
       "      <td>0</td>\n",
       "      <td>1</td>\n",
       "      <td>0</td>\n",
       "      <td>1</td>\n",
       "      <td>0</td>\n",
       "      <td>0</td>\n",
       "      <td>0</td>\n",
       "      <td>0</td>\n",
       "      <td>0</td>\n",
       "      <td>0</td>\n",
       "      <td>1</td>\n",
       "      <td>0</td>\n",
       "      <td>0</td>\n",
       "      <td>1</td>\n",
       "      <td>0</td>\n",
       "      <td>0</td>\n",
       "      <td>0</td>\n",
       "      <td>1</td>\n",
       "      <td>0</td>\n",
       "      <td>1</td>\n",
       "      <td>0</td>\n",
       "      <td>0</td>\n",
       "      <td>1</td>\n",
       "      <td>1</td>\n",
       "      <td>0</td>\n",
       "      <td>0</td>\n",
       "      <td>1</td>\n",
       "      <td>0</td>\n",
       "      <td>1</td>\n",
       "      <td>0</td>\n",
       "      <td>1</td>\n",
       "      <td>0</td>\n",
       "      <td>1</td>\n",
       "      <td>0</td>\n",
       "      <td>1</td>\n",
       "    </tr>\n",
       "    <tr>\n",
       "      <th>4</th>\n",
       "      <td>1</td>\n",
       "      <td>16</td>\n",
       "      <td>3</td>\n",
       "      <td>3</td>\n",
       "      <td>1</td>\n",
       "      <td>2</td>\n",
       "      <td>0</td>\n",
       "      <td>4</td>\n",
       "      <td>3</td>\n",
       "      <td>2</td>\n",
       "      <td>1</td>\n",
       "      <td>2</td>\n",
       "      <td>5</td>\n",
       "      <td>0</td>\n",
       "      <td>11</td>\n",
       "      <td>13</td>\n",
       "      <td>13</td>\n",
       "      <td>1</td>\n",
       "      <td>0</td>\n",
       "      <td>0</td>\n",
       "      <td>1</td>\n",
       "      <td>1</td>\n",
       "      <td>0</td>\n",
       "      <td>0</td>\n",
       "      <td>1</td>\n",
       "      <td>0</td>\n",
       "      <td>0</td>\n",
       "      <td>1</td>\n",
       "      <td>0</td>\n",
       "      <td>0</td>\n",
       "      <td>0</td>\n",
       "      <td>0</td>\n",
       "      <td>1</td>\n",
       "      <td>0</td>\n",
       "      <td>0</td>\n",
       "      <td>0</td>\n",
       "      <td>1</td>\n",
       "      <td>0</td>\n",
       "      <td>0</td>\n",
       "      <td>1</td>\n",
       "      <td>0</td>\n",
       "      <td>0</td>\n",
       "      <td>1</td>\n",
       "      <td>0</td>\n",
       "      <td>0</td>\n",
       "      <td>1</td>\n",
       "      <td>1</td>\n",
       "      <td>0</td>\n",
       "      <td>1</td>\n",
       "      <td>0</td>\n",
       "      <td>0</td>\n",
       "      <td>1</td>\n",
       "      <td>0</td>\n",
       "      <td>1</td>\n",
       "      <td>1</td>\n",
       "      <td>0</td>\n",
       "      <td>1</td>\n",
       "      <td>0</td>\n",
       "    </tr>\n",
       "    <tr>\n",
       "      <th>...</th>\n",
       "      <td>...</td>\n",
       "      <td>...</td>\n",
       "      <td>...</td>\n",
       "      <td>...</td>\n",
       "      <td>...</td>\n",
       "      <td>...</td>\n",
       "      <td>...</td>\n",
       "      <td>...</td>\n",
       "      <td>...</td>\n",
       "      <td>...</td>\n",
       "      <td>...</td>\n",
       "      <td>...</td>\n",
       "      <td>...</td>\n",
       "      <td>...</td>\n",
       "      <td>...</td>\n",
       "      <td>...</td>\n",
       "      <td>...</td>\n",
       "      <td>...</td>\n",
       "      <td>...</td>\n",
       "      <td>...</td>\n",
       "      <td>...</td>\n",
       "      <td>...</td>\n",
       "      <td>...</td>\n",
       "      <td>...</td>\n",
       "      <td>...</td>\n",
       "      <td>...</td>\n",
       "      <td>...</td>\n",
       "      <td>...</td>\n",
       "      <td>...</td>\n",
       "      <td>...</td>\n",
       "      <td>...</td>\n",
       "      <td>...</td>\n",
       "      <td>...</td>\n",
       "      <td>...</td>\n",
       "      <td>...</td>\n",
       "      <td>...</td>\n",
       "      <td>...</td>\n",
       "      <td>...</td>\n",
       "      <td>...</td>\n",
       "      <td>...</td>\n",
       "      <td>...</td>\n",
       "      <td>...</td>\n",
       "      <td>...</td>\n",
       "      <td>...</td>\n",
       "      <td>...</td>\n",
       "      <td>...</td>\n",
       "      <td>...</td>\n",
       "      <td>...</td>\n",
       "      <td>...</td>\n",
       "      <td>...</td>\n",
       "      <td>...</td>\n",
       "      <td>...</td>\n",
       "      <td>...</td>\n",
       "      <td>...</td>\n",
       "      <td>...</td>\n",
       "      <td>...</td>\n",
       "      <td>...</td>\n",
       "      <td>...</td>\n",
       "    </tr>\n",
       "    <tr>\n",
       "      <th>644</th>\n",
       "      <td>0</td>\n",
       "      <td>19</td>\n",
       "      <td>2</td>\n",
       "      <td>3</td>\n",
       "      <td>1</td>\n",
       "      <td>3</td>\n",
       "      <td>1</td>\n",
       "      <td>5</td>\n",
       "      <td>4</td>\n",
       "      <td>2</td>\n",
       "      <td>1</td>\n",
       "      <td>2</td>\n",
       "      <td>5</td>\n",
       "      <td>4</td>\n",
       "      <td>10</td>\n",
       "      <td>11</td>\n",
       "      <td>10</td>\n",
       "      <td>1</td>\n",
       "      <td>0</td>\n",
       "      <td>1</td>\n",
       "      <td>0</td>\n",
       "      <td>1</td>\n",
       "      <td>0</td>\n",
       "      <td>0</td>\n",
       "      <td>1</td>\n",
       "      <td>0</td>\n",
       "      <td>0</td>\n",
       "      <td>0</td>\n",
       "      <td>1</td>\n",
       "      <td>0</td>\n",
       "      <td>0</td>\n",
       "      <td>0</td>\n",
       "      <td>1</td>\n",
       "      <td>0</td>\n",
       "      <td>0</td>\n",
       "      <td>1</td>\n",
       "      <td>0</td>\n",
       "      <td>0</td>\n",
       "      <td>0</td>\n",
       "      <td>0</td>\n",
       "      <td>1</td>\n",
       "      <td>0</td>\n",
       "      <td>1</td>\n",
       "      <td>0</td>\n",
       "      <td>1</td>\n",
       "      <td>0</td>\n",
       "      <td>1</td>\n",
       "      <td>0</td>\n",
       "      <td>0</td>\n",
       "      <td>1</td>\n",
       "      <td>1</td>\n",
       "      <td>0</td>\n",
       "      <td>0</td>\n",
       "      <td>1</td>\n",
       "      <td>0</td>\n",
       "      <td>1</td>\n",
       "      <td>1</td>\n",
       "      <td>0</td>\n",
       "    </tr>\n",
       "    <tr>\n",
       "      <th>645</th>\n",
       "      <td>0</td>\n",
       "      <td>18</td>\n",
       "      <td>3</td>\n",
       "      <td>1</td>\n",
       "      <td>1</td>\n",
       "      <td>2</td>\n",
       "      <td>0</td>\n",
       "      <td>4</td>\n",
       "      <td>3</td>\n",
       "      <td>4</td>\n",
       "      <td>1</td>\n",
       "      <td>1</td>\n",
       "      <td>1</td>\n",
       "      <td>4</td>\n",
       "      <td>15</td>\n",
       "      <td>15</td>\n",
       "      <td>16</td>\n",
       "      <td>1</td>\n",
       "      <td>0</td>\n",
       "      <td>0</td>\n",
       "      <td>1</td>\n",
       "      <td>0</td>\n",
       "      <td>1</td>\n",
       "      <td>0</td>\n",
       "      <td>1</td>\n",
       "      <td>0</td>\n",
       "      <td>0</td>\n",
       "      <td>0</td>\n",
       "      <td>0</td>\n",
       "      <td>1</td>\n",
       "      <td>0</td>\n",
       "      <td>0</td>\n",
       "      <td>0</td>\n",
       "      <td>1</td>\n",
       "      <td>0</td>\n",
       "      <td>1</td>\n",
       "      <td>0</td>\n",
       "      <td>0</td>\n",
       "      <td>0</td>\n",
       "      <td>0</td>\n",
       "      <td>1</td>\n",
       "      <td>0</td>\n",
       "      <td>1</td>\n",
       "      <td>0</td>\n",
       "      <td>0</td>\n",
       "      <td>1</td>\n",
       "      <td>1</td>\n",
       "      <td>0</td>\n",
       "      <td>1</td>\n",
       "      <td>0</td>\n",
       "      <td>0</td>\n",
       "      <td>1</td>\n",
       "      <td>0</td>\n",
       "      <td>1</td>\n",
       "      <td>0</td>\n",
       "      <td>1</td>\n",
       "      <td>1</td>\n",
       "      <td>0</td>\n",
       "    </tr>\n",
       "    <tr>\n",
       "      <th>646</th>\n",
       "      <td>0</td>\n",
       "      <td>18</td>\n",
       "      <td>1</td>\n",
       "      <td>1</td>\n",
       "      <td>2</td>\n",
       "      <td>2</td>\n",
       "      <td>0</td>\n",
       "      <td>1</td>\n",
       "      <td>1</td>\n",
       "      <td>1</td>\n",
       "      <td>1</td>\n",
       "      <td>1</td>\n",
       "      <td>5</td>\n",
       "      <td>6</td>\n",
       "      <td>11</td>\n",
       "      <td>12</td>\n",
       "      <td>9</td>\n",
       "      <td>1</td>\n",
       "      <td>0</td>\n",
       "      <td>0</td>\n",
       "      <td>1</td>\n",
       "      <td>1</td>\n",
       "      <td>0</td>\n",
       "      <td>0</td>\n",
       "      <td>1</td>\n",
       "      <td>0</td>\n",
       "      <td>0</td>\n",
       "      <td>1</td>\n",
       "      <td>0</td>\n",
       "      <td>0</td>\n",
       "      <td>0</td>\n",
       "      <td>0</td>\n",
       "      <td>1</td>\n",
       "      <td>0</td>\n",
       "      <td>0</td>\n",
       "      <td>1</td>\n",
       "      <td>0</td>\n",
       "      <td>0</td>\n",
       "      <td>0</td>\n",
       "      <td>0</td>\n",
       "      <td>1</td>\n",
       "      <td>0</td>\n",
       "      <td>1</td>\n",
       "      <td>0</td>\n",
       "      <td>1</td>\n",
       "      <td>0</td>\n",
       "      <td>1</td>\n",
       "      <td>0</td>\n",
       "      <td>0</td>\n",
       "      <td>1</td>\n",
       "      <td>0</td>\n",
       "      <td>1</td>\n",
       "      <td>0</td>\n",
       "      <td>1</td>\n",
       "      <td>1</td>\n",
       "      <td>0</td>\n",
       "      <td>1</td>\n",
       "      <td>0</td>\n",
       "    </tr>\n",
       "    <tr>\n",
       "      <th>647</th>\n",
       "      <td>0</td>\n",
       "      <td>17</td>\n",
       "      <td>3</td>\n",
       "      <td>1</td>\n",
       "      <td>2</td>\n",
       "      <td>1</td>\n",
       "      <td>0</td>\n",
       "      <td>2</td>\n",
       "      <td>4</td>\n",
       "      <td>5</td>\n",
       "      <td>3</td>\n",
       "      <td>4</td>\n",
       "      <td>2</td>\n",
       "      <td>6</td>\n",
       "      <td>10</td>\n",
       "      <td>10</td>\n",
       "      <td>10</td>\n",
       "      <td>0</td>\n",
       "      <td>1</td>\n",
       "      <td>0</td>\n",
       "      <td>1</td>\n",
       "      <td>0</td>\n",
       "      <td>1</td>\n",
       "      <td>0</td>\n",
       "      <td>1</td>\n",
       "      <td>0</td>\n",
       "      <td>0</td>\n",
       "      <td>0</td>\n",
       "      <td>1</td>\n",
       "      <td>0</td>\n",
       "      <td>0</td>\n",
       "      <td>0</td>\n",
       "      <td>0</td>\n",
       "      <td>1</td>\n",
       "      <td>0</td>\n",
       "      <td>1</td>\n",
       "      <td>0</td>\n",
       "      <td>0</td>\n",
       "      <td>0</td>\n",
       "      <td>0</td>\n",
       "      <td>1</td>\n",
       "      <td>0</td>\n",
       "      <td>1</td>\n",
       "      <td>0</td>\n",
       "      <td>1</td>\n",
       "      <td>0</td>\n",
       "      <td>1</td>\n",
       "      <td>0</td>\n",
       "      <td>1</td>\n",
       "      <td>0</td>\n",
       "      <td>1</td>\n",
       "      <td>0</td>\n",
       "      <td>0</td>\n",
       "      <td>1</td>\n",
       "      <td>0</td>\n",
       "      <td>1</td>\n",
       "      <td>1</td>\n",
       "      <td>0</td>\n",
       "    </tr>\n",
       "    <tr>\n",
       "      <th>648</th>\n",
       "      <td>0</td>\n",
       "      <td>18</td>\n",
       "      <td>3</td>\n",
       "      <td>2</td>\n",
       "      <td>3</td>\n",
       "      <td>1</td>\n",
       "      <td>0</td>\n",
       "      <td>4</td>\n",
       "      <td>4</td>\n",
       "      <td>1</td>\n",
       "      <td>3</td>\n",
       "      <td>4</td>\n",
       "      <td>5</td>\n",
       "      <td>4</td>\n",
       "      <td>10</td>\n",
       "      <td>11</td>\n",
       "      <td>11</td>\n",
       "      <td>0</td>\n",
       "      <td>1</td>\n",
       "      <td>1</td>\n",
       "      <td>0</td>\n",
       "      <td>0</td>\n",
       "      <td>1</td>\n",
       "      <td>0</td>\n",
       "      <td>1</td>\n",
       "      <td>0</td>\n",
       "      <td>0</td>\n",
       "      <td>0</td>\n",
       "      <td>1</td>\n",
       "      <td>0</td>\n",
       "      <td>0</td>\n",
       "      <td>0</td>\n",
       "      <td>1</td>\n",
       "      <td>0</td>\n",
       "      <td>0</td>\n",
       "      <td>1</td>\n",
       "      <td>0</td>\n",
       "      <td>0</td>\n",
       "      <td>0</td>\n",
       "      <td>0</td>\n",
       "      <td>1</td>\n",
       "      <td>0</td>\n",
       "      <td>1</td>\n",
       "      <td>0</td>\n",
       "      <td>1</td>\n",
       "      <td>0</td>\n",
       "      <td>1</td>\n",
       "      <td>0</td>\n",
       "      <td>1</td>\n",
       "      <td>0</td>\n",
       "      <td>1</td>\n",
       "      <td>0</td>\n",
       "      <td>0</td>\n",
       "      <td>1</td>\n",
       "      <td>0</td>\n",
       "      <td>1</td>\n",
       "      <td>1</td>\n",
       "      <td>0</td>\n",
       "    </tr>\n",
       "  </tbody>\n",
       "</table>\n",
       "<p>649 rows × 58 columns</p>\n",
       "</div>"
      ],
      "text/plain": [
       "     school  age  Medu  Fedu  traveltime  studytime  failures  famrel  \\\n",
       "0         1   18     4     4           2          2         0       4   \n",
       "1         1   17     1     1           1          2         0       5   \n",
       "2         1   15     1     1           1          2         0       4   \n",
       "3         1   15     4     2           1          3         0       3   \n",
       "4         1   16     3     3           1          2         0       4   \n",
       "..      ...  ...   ...   ...         ...        ...       ...     ...   \n",
       "644       0   19     2     3           1          3         1       5   \n",
       "645       0   18     3     1           1          2         0       4   \n",
       "646       0   18     1     1           2          2         0       1   \n",
       "647       0   17     3     1           2          1         0       2   \n",
       "648       0   18     3     2           3          1         0       4   \n",
       "\n",
       "     freetime  goout  Dalc  Walc  health  absences  G1  G2  G3  sex_F  sex_M  \\\n",
       "0           3      4     1     1       3         4   0  11  11      1      0   \n",
       "1           3      3     1     1       3         2   9  11  11      1      0   \n",
       "2           3      2     2     3       3         6  12  13  12      1      0   \n",
       "3           2      2     1     1       5         0  14  14  14      1      0   \n",
       "4           3      2     1     2       5         0  11  13  13      1      0   \n",
       "..        ...    ...   ...   ...     ...       ...  ..  ..  ..    ...    ...   \n",
       "644         4      2     1     2       5         4  10  11  10      1      0   \n",
       "645         3      4     1     1       1         4  15  15  16      1      0   \n",
       "646         1      1     1     1       5         6  11  12   9      1      0   \n",
       "647         4      5     3     4       2         6  10  10  10      0      1   \n",
       "648         4      1     3     4       5         4  10  11  11      0      1   \n",
       "\n",
       "     address_R  address_U  famsize_GT3  famsize_LE3  Pstatus_A  Pstatus_T  \\\n",
       "0            0          1            1            0          1          0   \n",
       "1            0          1            1            0          0          1   \n",
       "2            0          1            0            1          0          1   \n",
       "3            0          1            1            0          0          1   \n",
       "4            0          1            1            0          0          1   \n",
       "..         ...        ...          ...          ...        ...        ...   \n",
       "644          1          0            1            0          0          1   \n",
       "645          0          1            0            1          0          1   \n",
       "646          0          1            1            0          0          1   \n",
       "647          0          1            0            1          0          1   \n",
       "648          1          0            0            1          0          1   \n",
       "\n",
       "     Mjob_at_home  Mjob_health  Mjob_other  Mjob_services  Mjob_teacher  \\\n",
       "0               1            0           0              0             0   \n",
       "1               1            0           0              0             0   \n",
       "2               1            0           0              0             0   \n",
       "3               0            1           0              0             0   \n",
       "4               0            0           1              0             0   \n",
       "..            ...          ...         ...            ...           ...   \n",
       "644             0            0           0              1             0   \n",
       "645             0            0           0              0             1   \n",
       "646             0            0           1              0             0   \n",
       "647             0            0           0              1             0   \n",
       "648             0            0           0              1             0   \n",
       "\n",
       "     Fjob_at_home  Fjob_health  Fjob_other  Fjob_services  Fjob_teacher  \\\n",
       "0               0            0           0              0             1   \n",
       "1               0            0           1              0             0   \n",
       "2               0            0           1              0             0   \n",
       "3               0            0           0              1             0   \n",
       "4               0            0           1              0             0   \n",
       "..            ...          ...         ...            ...           ...   \n",
       "644             0            0           1              0             0   \n",
       "645             0            0           0              1             0   \n",
       "646             0            0           1              0             0   \n",
       "647             0            0           0              1             0   \n",
       "648             0            0           1              0             0   \n",
       "\n",
       "     reason_course  reason_home  reason_other  reason_reputation  \\\n",
       "0                1            0             0                  0   \n",
       "1                1            0             0                  0   \n",
       "2                0            0             1                  0   \n",
       "3                0            1             0                  0   \n",
       "4                0            1             0                  0   \n",
       "..             ...          ...           ...                ...   \n",
       "644              1            0             0                  0   \n",
       "645              1            0             0                  0   \n",
       "646              1            0             0                  0   \n",
       "647              1            0             0                  0   \n",
       "648              1            0             0                  0   \n",
       "\n",
       "     guardian_father  guardian_mother  guardian_other  schoolsup_no  \\\n",
       "0                  0                1               0             0   \n",
       "1                  1                0               0             1   \n",
       "2                  0                1               0             0   \n",
       "3                  0                1               0             1   \n",
       "4                  1                0               0             1   \n",
       "..               ...              ...             ...           ...   \n",
       "644                0                1               0             1   \n",
       "645                0                1               0             1   \n",
       "646                0                1               0             1   \n",
       "647                0                1               0             1   \n",
       "648                0                1               0             1   \n",
       "\n",
       "     schoolsup_yes  famsup_no  famsup_yes  paid_no  paid_yes  activities_no  \\\n",
       "0                1          1           0        1         0              1   \n",
       "1                0          0           1        1         0              1   \n",
       "2                1          1           0        1         0              1   \n",
       "3                0          0           1        1         0              0   \n",
       "4                0          0           1        1         0              1   \n",
       "..             ...        ...         ...      ...       ...            ...   \n",
       "644              0          1           0        1         0              0   \n",
       "645              0          0           1        1         0              1   \n",
       "646              0          1           0        1         0              0   \n",
       "647              0          1           0        1         0              1   \n",
       "648              0          1           0        1         0              1   \n",
       "\n",
       "     activities_yes  nursery_no  nursery_yes  higher_no  higher_yes  \\\n",
       "0                 0           0            1          0           1   \n",
       "1                 0           1            0          0           1   \n",
       "2                 0           0            1          0           1   \n",
       "3                 1           0            1          0           1   \n",
       "4                 0           0            1          0           1   \n",
       "..              ...         ...          ...        ...         ...   \n",
       "644               1           1            0          0           1   \n",
       "645               0           0            1          0           1   \n",
       "646               1           0            1          0           1   \n",
       "647               0           1            0          0           1   \n",
       "648               0           1            0          0           1   \n",
       "\n",
       "     internet_no  internet_yes  romantic_no  romantic_yes  \n",
       "0              1             0            1             0  \n",
       "1              0             1            1             0  \n",
       "2              0             1            1             0  \n",
       "3              0             1            0             1  \n",
       "4              1             0            1             0  \n",
       "..           ...           ...          ...           ...  \n",
       "644            0             1            1             0  \n",
       "645            0             1            1             0  \n",
       "646            1             0            1             0  \n",
       "647            0             1            1             0  \n",
       "648            0             1            1             0  \n",
       "\n",
       "[649 rows x 58 columns]"
      ]
     },
     "execution_count": 43,
     "metadata": {},
     "output_type": "execute_result"
    }
   ],
   "source": [
    "student_por_v2_encoded"
   ]
  },
  {
   "cell_type": "code",
   "execution_count": 44,
   "metadata": {
    "id": "WG603INhO34L"
   },
   "outputs": [],
   "source": [
    "# Decision Tree classifier: Easy to interpret, and to figure out what features makes the most importance \n",
    "\n",
    "from sklearn.model_selection import train_test_split\n",
    "from sklearn.tree import DecisionTreeClassifier\n",
    "from sklearn.metrics import accuracy_score, roc_auc_score\n",
    "\n",
    "y_target = student_por_v2_encoded['school']\n",
    "X_features = student_por_v2_encoded.drop(['G1', 'G2', 'G3', 'school'], axis=1, inplace=False)\n",
    "\n",
    "X_train, X_test, y_train, y_test = train_test_split(X_features, y_target, test_size=0.3, random_state=0)\n",
    "\n",
    "dt_clf = DecisionTreeClassifier(random_state=0)\n",
    "dt_clf.fit(X_train , y_train)\n",
    "dt_clf_pred = dt_clf.predict(X_test)\n",
    "dt_clf_pred_proba = dt_clf.predict_proba(X_test)[:, 1]"
   ]
  },
  {
   "cell_type": "code",
   "execution_count": 45,
   "metadata": {
    "id": "UtGZT3wBPOYN"
   },
   "outputs": [],
   "source": [
    "# evaluation function\n",
    "\n",
    "def get_clf_eval(y_test, pred=None, pred_proba=None):\n",
    "    accuracy = accuracy_score(y_test , pred)\n",
    "    roc_auc = roc_auc_score(y_test, pred_proba)\n",
    "\n",
    "    \n",
    "    print('accuracy: {:.4f}, auc: {:.4f}'.format(accuracy, roc_auc))"
   ]
  },
  {
   "cell_type": "code",
   "execution_count": 46,
   "metadata": {
    "colab": {
     "base_uri": "https://localhost:8080/"
    },
    "id": "dphlX2anPP8r",
    "outputId": "8ac346bb-ddb4-491d-9b9f-961562f63d9b"
   },
   "outputs": [
    {
     "name": "stdout",
     "output_type": "stream",
     "text": [
      "accuracy: 0.6821, auc: 0.6440\n"
     ]
    }
   ],
   "source": [
    "get_clf_eval(y_test, dt_clf_pred, dt_clf_pred_proba)"
   ]
  },
  {
   "cell_type": "code",
   "execution_count": 47,
   "metadata": {
    "colab": {
     "base_uri": "https://localhost:8080/"
    },
    "id": "EtMN4fCAPRV3",
    "outputId": "c57fa0dd-2dee-4a72-ced7-9a152514c862"
   },
   "outputs": [
    {
     "name": "stdout",
     "output_type": "stream",
     "text": [
      "Best hyper parameter:{'max_depth': 12, 'min_samples_split': 16}, Best score:0.701\n"
     ]
    }
   ],
   "source": [
    "# logistic regression(second trial) - adding hyper parameter tuning: 0.8254 as auc score\n",
    "# Hyper parameter tuning: GridSearchCV\n",
    "# Retrain by best hyper parameter\n",
    "\n",
    "from sklearn.model_selection import GridSearchCV\n",
    "\n",
    "params = {\n",
    "    'max_depth' : [8 ,12, 16 ,20], \n",
    "    'min_samples_split' : [16,24],\n",
    "}\n",
    "\n",
    "# By setting refit=True, this model retrains with the best parameter\n",
    "grid_dt = GridSearchCV(dt_clf, param_grid=params, scoring='roc_auc', cv=5, refit=True)\n",
    "grid_dt.fit(X_train, y_train)\n",
    "\n",
    "print('Best hyper parameter:{0}, Best score:{1:.3f}'.format(grid_dt.best_params_, grid_dt.best_score_))"
   ]
  },
  {
   "cell_type": "code",
   "execution_count": 48,
   "metadata": {
    "colab": {
     "base_uri": "https://localhost:8080/"
    },
    "id": "Kb0izhfkQfEf",
    "outputId": "a2a19b48-5ba7-4c19-82b8-5ec428a14118"
   },
   "outputs": [
    {
     "name": "stdout",
     "output_type": "stream",
     "text": [
      "accuracy: 0.7026, auc: 0.7159\n"
     ]
    }
   ],
   "source": [
    "# hyper parameter tuning by using grid search cv\n",
    "best_df_clf = grid_dt.best_estimator_\n",
    "\n",
    "pred = best_df_clf.predict(X_test)\n",
    "pred_proba = best_df_clf.predict_proba(X_test)[:, 1]\n",
    "\n",
    "\n",
    "get_clf_eval(y_test, pred, pred_proba)"
   ]
  },
  {
   "cell_type": "code",
   "execution_count": 49,
   "metadata": {
    "colab": {
     "base_uri": "https://localhost:8080/",
     "height": 390
    },
    "id": "R4ptDIcAPwbC",
    "outputId": "f7e87c0e-dadb-4659-9041-64451ff6ae4e"
   },
   "outputs": [
    {
     "data": {
      "image/png": "[encoded data removed]",
      "text/plain": [
       "<Figure size 576x432 with 1 Axes>"
      ]
     },
     "metadata": {
      "needs_background": "light"
     },
     "output_type": "display_data"
    }
   ],
   "source": [
    "# Sort by feature importance and visualize the result\n",
    "# It seems that 'Address: Urban' is the most important feature  \n",
    "ftr_importances_values = best_df_clf.feature_importances_\n",
    "ftr_importances = pd.Series(ftr_importances_values, index=X_train.columns  )\n",
    "\n",
    "ftr_top20 = ftr_importances.sort_values(ascending=False)[:20]\n",
    "plt.figure(figsize=(8,6))\n",
    "plt.title('Feature importances Top 20')\n",
    "sns.barplot(x=ftr_top20 , y = ftr_top20.index)\n",
    "plt.show()"
   ]
  },
  {
   "cell_type": "code",
   "execution_count": 50,
   "metadata": {
    "colab": {
     "base_uri": "https://localhost:8080/"
    },
    "id": "nc-hgiuPSAMA",
    "outputId": "fda466b1-eaa5-4c83-8134-bfee23271046"
   },
   "outputs": [
    {
     "data": {
      "text/plain": [
       "U    345\n",
       "R     78\n",
       "Name: address, dtype: int64"
      ]
     },
     "execution_count": 50,
     "metadata": {},
     "output_type": "execute_result"
    }
   ],
   "source": [
    "# We can also see this in address distribution\n",
    "# Showing 81.56% in school GP and 47.35% in school MS \n",
    "student_por_v2[student_por_v2['school'] == 1]['address'].value_counts()"
   ]
  },
  {
   "cell_type": "code",
   "execution_count": 51,
   "metadata": {
    "colab": {
     "base_uri": "https://localhost:8080/"
    },
    "id": "jxlVUGSZSX3x",
    "outputId": "07a7f223-9887-47d3-d1bd-8b532330fbac"
   },
   "outputs": [
    {
     "data": {
      "text/plain": [
       "R    119\n",
       "U    107\n",
       "Name: address, dtype: int64"
      ]
     },
     "execution_count": 51,
     "metadata": {},
     "output_type": "execute_result"
    }
   ],
   "source": [
    "student_por_v2[student_por_v2['school'] == 0]['address'].value_counts()"
   ]
  },
  {
   "cell_type": "code",
   "execution_count": 52,
   "metadata": {
    "colab": {
     "base_uri": "https://localhost:8080/"
    },
    "id": "XQ3iE3VuSZUm",
    "outputId": "759383b6-53cd-4e0f-e078-c598d795f75f"
   },
   "outputs": [
    {
     "data": {
      "text/plain": [
       "81.56028368794325"
      ]
     },
     "execution_count": 52,
     "metadata": {},
     "output_type": "execute_result"
    }
   ],
   "source": [
    "len(student_por_v2[student_por_v2['school'] == 1][student_por_v2['address'] == 'U']) / len(student_por_v2[student_por_v2['school'] == 1]) * 100"
   ]
  },
  {
   "cell_type": "code",
   "execution_count": 53,
   "metadata": {
    "colab": {
     "base_uri": "https://localhost:8080/"
    },
    "id": "3ryQUpmaSmMk",
    "outputId": "dd9eb8a6-5206-4f9e-b041-32e51262e647"
   },
   "outputs": [
    {
     "data": {
      "text/plain": [
       "47.34513274336283"
      ]
     },
     "execution_count": 53,
     "metadata": {},
     "output_type": "execute_result"
    }
   ],
   "source": [
    "len(student_por_v2[student_por_v2['school'] == 0][student_por_v2['address'] == 'U']) / len(student_por_v2[student_por_v2['school'] == 0]) * 100"
   ]
  },
  {
   "cell_type": "code",
   "execution_count": null,
   "metadata": {
    "id": "qhBBV15dStBW"
   },
   "outputs": [],
   "source": []
  }
 ],
 "metadata": {
  "colab": {
   "collapsed_sections": [],
   "name": "★dsga_1001_cap_1218.ipynb",
   "provenance": []
  },
  "kernelspec": {
   "display_name": "Python 3",
   "language": "python",
   "name": "python3"
  },
  "language_info": {
   "codemirror_mode": {
    "name": "ipython",
    "version": 3
   },
   "file_extension": ".py",
   "mimetype": "text/x-python",
   "name": "python",
   "nbconvert_exporter": "python",
   "pygments_lexer": "ipython3",
   "version": "3.8.8"
  }
 },
 "nbformat": 4,
 "nbformat_minor": 1
}
