{
 "cells": [
  {
   "cell_type": "markdown",
   "id": "22ca5150",
   "metadata": {},
   "source": [
    "# Project 3 Yunseok Jang"
   ]
  },
  {
   "cell_type": "markdown",
   "id": "719ded46",
   "metadata": {},
   "source": [
    "1) Apply dimension reduction methods – specifically a PCA – to the data in columns 421-474. As laid out above, these columns contain self-report answers to personality and how these individuals experience movies, respectively. It is us to you whether you do one PCA each for personality and movie experience, or one overall, but regardless of that, we would like you to:\n",
    "\n",
    "a) Determine the number of factors (principal components) that you will interpret meaningfully (by a criterion of your choice – but make sure to name that criterion). Include a Scree plot in your answer.\n",
    "\n",
    "b) Semantically interpret what those factors represent (hint: Inspect the loadings matrix)."
   ]
  },
  {
   "cell_type": "code",
   "execution_count": 2,
   "id": "09737c10",
   "metadata": {},
   "outputs": [
    {
     "name": "stdout",
     "output_type": "stream",
     "text": [
      "      Is talkative  Tends to find fault with others  Does a thorough job  \\\n",
      "0              1.0                              2.0              4.04912   \n",
      "1              2.0                              3.0              4.00000   \n",
      "2              4.0                              2.0              4.00000   \n",
      "3              5.0                              3.0              5.00000   \n",
      "4              4.0                              4.0              4.00000   \n",
      "...            ...                              ...                  ...   \n",
      "1092           4.0                              4.0              4.00000   \n",
      "1093           5.0                              5.0              5.00000   \n",
      "1094           4.0                              2.0              5.00000   \n",
      "1095           4.0                              2.0              4.00000   \n",
      "1096           5.0                              4.0              5.00000   \n",
      "\n",
      "      Is depressed/Blue  Is original/comes up with new ideas  Is reserved  \\\n",
      "0                   4.0                                  4.0          5.0   \n",
      "1                   1.0                                  3.0          5.0   \n",
      "2                   2.0                                  3.0          3.0   \n",
      "3                   4.0                                  5.0          3.0   \n",
      "4                   4.0                                  2.0          3.0   \n",
      "...                 ...                                  ...          ...   \n",
      "1092                4.0                                  3.0          3.0   \n",
      "1093                2.0                                  5.0          4.0   \n",
      "1094                4.0                                  2.0          5.0   \n",
      "1095                3.0                                  5.0          5.0   \n",
      "1096                2.0                                  4.0          3.0   \n",
      "\n",
      "      Is helpful and unselfish with others  Can be somewhat careless  \\\n",
      "0                                      2.0                       3.0   \n",
      "1                                      3.0                       4.0   \n",
      "2                                      4.0                       4.0   \n",
      "3                                      4.0                       1.0   \n",
      "4                                      4.0                       4.0   \n",
      "...                                    ...                       ...   \n",
      "1092                                   4.0                       4.0   \n",
      "1093                                   5.0                       5.0   \n",
      "1094                                   5.0                       1.0   \n",
      "1095                                   5.0                       5.0   \n",
      "1096                                   5.0                       4.0   \n",
      "\n",
      "      Is relaxed/handles stress well  Is curious about many different things  \\\n",
      "0                                5.0                                     1.0   \n",
      "1                                3.0                                     3.0   \n",
      "2                                2.0                                     4.0   \n",
      "3                                2.0                                     5.0   \n",
      "4                                2.0                                     4.0   \n",
      "...                              ...                                     ...   \n",
      "1092                             2.0                                     5.0   \n",
      "1093                             5.0                                     4.0   \n",
      "1094                             2.0                                     5.0   \n",
      "1095                             4.0                                     4.0   \n",
      "1096                             5.0                                     5.0   \n",
      "\n",
      "      ...  I have cried during a movie  \\\n",
      "0     ...                          3.0   \n",
      "1     ...                          5.0   \n",
      "2     ...                          4.0   \n",
      "3     ...                          4.0   \n",
      "4     ...                          4.0   \n",
      "...   ...                          ...   \n",
      "1092  ...                          5.0   \n",
      "1093  ...                          5.0   \n",
      "1094  ...                          4.0   \n",
      "1095  ...                          5.0   \n",
      "1096  ...                          5.0   \n",
      "\n",
      "      I have trouble following the story of a movie  \\\n",
      "0                                               4.0   \n",
      "1                                               3.0   \n",
      "2                                               3.0   \n",
      "3                                               1.0   \n",
      "4                                               3.0   \n",
      "...                                             ...   \n",
      "1092                                            4.0   \n",
      "1093                                            4.0   \n",
      "1094                                            2.0   \n",
      "1095                                            5.0   \n",
      "1096                                            3.0   \n",
      "\n",
      "      I have trouble remembering the story of a movie a couple of days after seeing it  \\\n",
      "0                                                   1.0                                  \n",
      "1                                                   1.0                                  \n",
      "2                                                   1.0                                  \n",
      "3                                                   1.0                                  \n",
      "4                                                   4.0                                  \n",
      "...                                                 ...                                  \n",
      "1092                                                3.0                                  \n",
      "1093                                                5.0                                  \n",
      "1094                                                3.0                                  \n",
      "1095                                                3.0                                  \n",
      "1096                                                4.0                                  \n",
      "\n",
      "      When watching a movie I cheer or shout or talk or curse at the screen  \\\n",
      "0                                                   1.0                       \n",
      "1                                                   3.0                       \n",
      "2                                                   5.0                       \n",
      "3                                                   3.0                       \n",
      "4                                                   2.0                       \n",
      "...                                                 ...                       \n",
      "1092                                                3.0                       \n",
      "1093                                                5.0                       \n",
      "1094                                                6.0                       \n",
      "1095                                                1.0                       \n",
      "1096                                                3.0                       \n",
      "\n",
      "      When watching a movie I feel like the things on the screen are happening to me  \\\n",
      "0                                                   6.0                                \n",
      "1                                                   1.0                                \n",
      "2                                                   4.0                                \n",
      "3                                                   1.0                                \n",
      "4                                                   3.0                                \n",
      "...                                                 ...                                \n",
      "1092                                                4.0                                \n",
      "1093                                                3.0                                \n",
      "1094                                                3.0                                \n",
      "1095                                                1.0                                \n",
      "1096                                                4.0                                \n",
      "\n",
      "      As a movie unfolds I start to have problems keeping track of events that happened earlier  \\\n",
      "0                                                   2.0                                           \n",
      "1                                                   1.0                                           \n",
      "2                                                   3.0                                           \n",
      "3                                                   1.0                                           \n",
      "4                                                   2.0                                           \n",
      "...                                                 ...                                           \n",
      "1092                                                3.0                                           \n",
      "1093                                                5.0                                           \n",
      "1094                                                1.0                                           \n",
      "1095                                                1.0                                           \n",
      "1096                                                1.0                                           \n",
      "\n",
      "      The emotions on the screen \"rub off\" on me - for instance if something sad is happening I get sad or if something frightening is happening I get scared  \\\n",
      "0                                                   5.0                                                                                                         \n",
      "1                                                   6.0                                                                                                         \n",
      "2                                                   5.0                                                                                                         \n",
      "3                                                   4.0                                                                                                         \n",
      "4                                                   5.0                                                                                                         \n",
      "...                                                 ...                                                                                                         \n",
      "1092                                                5.0                                                                                                         \n",
      "1093                                                5.0                                                                                                         \n",
      "1094                                                6.0                                                                                                         \n",
      "1095                                                4.0                                                                                                         \n",
      "1096                                                4.0                                                                                                         \n",
      "\n",
      "      When watching a movie I get completely immersed in the alternative reality of the film  \\\n",
      "0                                                   5.0                                        \n",
      "1                                                   5.0                                        \n",
      "2                                                   5.0                                        \n",
      "3                                                   5.0                                        \n",
      "4                                                   6.0                                        \n",
      "...                                                 ...                                        \n",
      "1092                                                5.0                                        \n",
      "1093                                                5.0                                        \n",
      "1094                                                6.0                                        \n",
      "1095                                                3.0                                        \n",
      "1096                                                4.0                                        \n",
      "\n",
      "      Movies change my position on social economic or political issues  \\\n",
      "0                                                   5.0                  \n",
      "1                                                   3.0                  \n",
      "2                                                   4.0                  \n",
      "3                                                   3.0                  \n",
      "4                                                   4.0                  \n",
      "...                                                 ...                  \n",
      "1092                                                4.0                  \n",
      "1093                                                6.0                  \n",
      "1094                                                4.0                  \n",
      "1095                                                3.0                  \n",
      "1096                                                4.0                  \n",
      "\n",
      "      When watching movies things get so intense that I have to stop watching  \n",
      "0                                                   1.0                        \n",
      "1                                                   2.0                        \n",
      "2                                                   4.0                        \n",
      "3                                                   1.0                        \n",
      "4                                                   4.0                        \n",
      "...                                                 ...                        \n",
      "1092                                                4.0                        \n",
      "1093                                                5.0                        \n",
      "1094                                                2.0                        \n",
      "1095                                                1.0                        \n",
      "1096                                                1.0                        \n",
      "\n",
      "[1097 rows x 54 columns]\n"
     ]
    }
   ],
   "source": [
    "import pandas as pd\n",
    "import numpy as np\n",
    "from scipy import stats\n",
    "import matplotlib.pyplot as plt\n",
    "from sklearn.decomposition import PCA\n",
    "import warnings\n",
    "warnings.filterwarnings(\"ignore\")\n",
    "\n",
    "\n",
    "df1 = pd.read_csv('.\\movieReplicationSet.csv')\n",
    "df2 = np.genfromtxt('.\\movieReplicationSet.csv', delimiter = ',', skip_header = 1)\n",
    "\n",
    "\n",
    "data = df1.iloc[:,420:474]\n",
    "avg = data.mean(axis = 0, skipna = True)\n",
    "\n",
    "data.fillna(avg, inplace = True)\n",
    "\n",
    "print(data)"
   ]
  },
  {
   "cell_type": "code",
   "execution_count": 3,
   "id": "3da80f3f",
   "metadata": {},
   "outputs": [
    {
     "data": {
      "image/png": "[encoded data removed]",
      "text/plain": [
       "<Figure size 432x288 with 1 Axes>"
      ]
     },
     "metadata": {
      "needs_background": "light"
     },
     "output_type": "display_data"
    }
   ],
   "source": [
    "# process of PCA\n",
    "\n",
    "z = stats.zscore(data)\n",
    "\n",
    "\n",
    "pca = PCA().fit(z)\n",
    "\n",
    "e_val = pca.explained_variance_\n",
    "\n",
    "loading = pca.components_\n",
    "\n",
    "plt.bar(np.linspace(1,54,54),e_val)\n",
    "plt.ylabel('Eigenvalue')\n",
    "plt.xlabel('Principal Components')\n",
    "plt.show()\n"
   ]
  },
  {
   "cell_type": "code",
   "execution_count": 4,
   "id": "fa644187",
   "metadata": {},
   "outputs": [
    {
     "name": "stdout",
     "output_type": "stream",
     "text": [
      "(2, 54)\n"
     ]
    }
   ],
   "source": [
    "# Going with Elbow Criterion\n",
    "# We see a sharp decrease between second and third eigenvalues\n",
    "# Take the first two eigenvalues\n",
    "# redefine PCA with 2 components\n",
    "\n",
    "pca_n  = PCA(n_components=2).fit(z)\n",
    "\n",
    "e_val_n = pca_n.explained_variance_\n",
    "\n",
    "loading = pca_n.components_\n",
    "\n",
    "print(np.shape(loading))\n",
    "\n",
    "\n"
   ]
  },
  {
   "cell_type": "code",
   "execution_count": 5,
   "id": "3164ff13",
   "metadata": {},
   "outputs": [
    {
     "name": "stdout",
     "output_type": "stream",
     "text": [
      "(1097, 2)\n"
     ]
    }
   ],
   "source": [
    "# transform the data based on PCA\n",
    "\n",
    "trans_data = pca_n.fit_transform(z)*(-1)\n",
    "\n",
    "print(np.shape(trans_data))"
   ]
  },
  {
   "cell_type": "code",
   "execution_count": 6,
   "id": "01d97385",
   "metadata": {},
   "outputs": [
    {
     "name": "stdout",
     "output_type": "stream",
     "text": [
      "These two components provide the direction that accounts for the maximum variance of data\n",
      "Each coordinate of the component represent the importance of the 54 features in the following direction\n",
      "[[-0.17916144  0.10433879 -0.18544047  0.18683954 -0.17162179  0.14523754\n",
      "  -0.17214608  0.10896313 -0.16319405 -0.15658472 -0.23887433  0.05767257\n",
      "  -0.1759438   0.0968417  -0.12187787 -0.23532441 -0.12106965  0.11172748\n",
      "   0.10363056 -0.09603448  0.16693482 -0.12946089  0.14169427 -0.15135712\n",
      "  -0.1675479  -0.15133391  0.1533786  -0.16734954  0.10177906 -0.10907264\n",
      "   0.14177718 -0.17323031 -0.19072237 -0.16864315  0.02915397 -0.22778915\n",
      "   0.09897918 -0.15443611  0.12643091 -0.13692425  0.05286577 -0.13927623\n",
      "   0.091501   -0.09518715 -0.03509124  0.08413977  0.09786817 -0.02556874\n",
      "  -0.03660917  0.09666058 -0.05166916 -0.06704433 -0.03366552  0.02978331]\n",
      " [-0.09809297 -0.07546358 -0.04261098 -0.18608505 -0.13018947 -0.00782765\n",
      "  -0.02046033 -0.08988487  0.18826259 -0.1529028  -0.05082985 -0.05027211\n",
      "  -0.01578511 -0.20073962 -0.14782612 -0.09939792 -0.02218397 -0.10520051\n",
      "  -0.24438507 -0.22185941  0.00050559 -0.02988843 -0.10343331  0.20424715\n",
      "  -0.12372769  0.02305362 -0.015291   -0.01925527 -0.23009389 -0.21361455\n",
      "  -0.09619192 -0.10465876  0.01615549  0.13835842  0.00991949 -0.03134028\n",
      "  -0.05006292  0.03717727 -0.22685932 -0.18314496  0.1019373  -0.06102774\n",
      "  -0.17282082 -0.16612286 -0.18272544 -0.08006028 -0.03375011 -0.15265529\n",
      "  -0.21462864 -0.1125192  -0.24682814 -0.22922182 -0.18232586 -0.16384348]]\n"
     ]
    }
   ],
   "source": [
    "# Semantic Interpretation of the loading data\n",
    "print('These two components provide the direction that accounts for the maximum variance of data')\n",
    "print('Each coordinate of the component represent the importance of the 54 features in the following direction')\n",
    "\n",
    "print(loading)\n",
    "\n",
    "\n",
    "\n"
   ]
  },
  {
   "cell_type": "markdown",
   "id": "b145f68a",
   "metadata": {},
   "source": [
    "2) Plot the data from columns 421-474 in the new coordinate system, where each dot represents a person, and the axes represent the factors you found in 1). Hint: If you identified more than 2 meaningful factors, it is a good idea to create several 2D (X vs. Y) subplots for better interpretability"
   ]
  },
  {
   "cell_type": "code",
   "execution_count": 7,
   "id": "c8ad0b14",
   "metadata": {},
   "outputs": [
    {
     "data": {
      "text/plain": [
       "Text(0, 0.5, 'Second maximal direction wise')"
      ]
     },
     "execution_count": 7,
     "metadata": {},
     "output_type": "execute_result"
    },
    {
     "data": {
      "image/png": "[encoded data removed]",
      "text/plain": [
       "<Figure size 432x288 with 1 Axes>"
      ]
     },
     "metadata": {
      "needs_background": "light"
     },
     "output_type": "display_data"
    }
   ],
   "source": [
    "# Plotting of the translated data in new coordinate system\n",
    "plt.scatter(trans_data[:,0],trans_data[:,1])\n",
    "plt.xlabel('First maximal direction wise')\n",
    "plt.ylabel('Second maximal direction wise')\n",
    "\n",
    "\n"
   ]
  },
  {
   "cell_type": "markdown",
   "id": "f26ac59d",
   "metadata": {},
   "source": [
    "3) Identify clusters in this new space. Use a method of your choice (e.g. kMeans, DBScan, hierarchical clustering) to do so. Determine the optimal number of clusters and identify which cluster a given user is part of."
   ]
  },
  {
   "cell_type": "code",
   "execution_count": 8,
   "id": "a72168ec",
   "metadata": {},
   "outputs": [],
   "source": [
    "from sklearn.cluster import KMeans\n",
    "from sklearn.metrics import silhouette_samples\n",
    "import seaborn as sns\n",
    "import sklearn.cluster as cluster"
   ]
  },
  {
   "cell_type": "code",
   "execution_count": 9,
   "id": "d4bff172",
   "metadata": {},
   "outputs": [
    {
     "data": {
      "image/png": "[encoded data removed]",
      "text/plain": [
       "<Figure size 432x288 with 1 Axes>"
      ]
     },
     "metadata": {
      "needs_background": "light"
     },
     "output_type": "display_data"
    }
   ],
   "source": [
    "# conducting a preliminary clustering\n",
    "# kmeans 3 clustering\n",
    "\n",
    "kMeans = KMeans(n_clusters = 3)\n",
    "\n",
    "label = kMeans.fit_predict(trans_data)\n",
    "\n",
    "u_labels = np.unique(label)\n",
    "\n",
    "for i in u_labels:\n",
    "    plt.scatter(trans_data[label==i,0],trans_data[label==i,1],label = i)\n",
    "plt.legend()\n",
    "plt.xlabel('First maximal direction wise')\n",
    "plt.ylabel('Second maximal direction wise')\n",
    "plt.show()\n",
    "\n",
    "\n"
   ]
  },
  {
   "cell_type": "code",
   "execution_count": 10,
   "id": "e1aa6128",
   "metadata": {},
   "outputs": [
    {
     "data": {
      "image/png": "[encoded data removed]",
      "text/plain": [
       "<Figure size 432x288 with 9 Axes>"
      ]
     },
     "metadata": {
      "needs_background": "light"
     },
     "output_type": "display_data"
    }
   ],
   "source": [
    "# Sillhoette method of finding optimal \n",
    "numClusters = 9 # how many clusters are we looping over? (from 2 to 10)\n",
    "Q = np.empty([numClusters,1]) # init container to store sums\n",
    "Q[:] = np.NaN # convert to NaN\n",
    "\n",
    "# Compute kMeans:\n",
    "for ii in range(2, 11): # Loop through each cluster (from 2 to 10!)\n",
    "    kMeans = KMeans(n_clusters = int(ii)).fit(trans_data) # compute kmeans\n",
    "    cId = kMeans.labels_ # vector of cluster IDs that the row belongs to\n",
    "    cCoords = kMeans.cluster_centers_ # coordinate location for center of each cluster\n",
    "    s = silhouette_samples(trans_data,cId) # compute the mean silhouette coefficient of all samples\n",
    "    # print(s.shape)\n",
    "    Q[ii-2] = sum(s) # take sum\n",
    "    # Plot data:\n",
    "    plt.subplot(3,3,ii-1) \n",
    "    plt.hist(s,bins=20) \n",
    "    plt.xlim(-0.2,1)\n",
    "    plt.ylim(0,500)\n",
    "    plt.xlabel('Silhouette score')\n",
    "    plt.ylabel('Count')\n",
    "    plt.title('Sum: {}'.format(int(Q[ii-2]))) # sum rounded to nearest integer"
   ]
  },
  {
   "cell_type": "code",
   "execution_count": 11,
   "id": "d098ced8",
   "metadata": {},
   "outputs": [
    {
     "data": {
      "text/plain": [
       "Text(0, 0.5, 'Sum of silhouette scores')"
      ]
     },
     "execution_count": 11,
     "metadata": {},
     "output_type": "execute_result"
    },
    {
     "data": {
      "image/png": "[encoded data removed]",
      "text/plain": [
       "<Figure size 432x288 with 1 Axes>"
      ]
     },
     "metadata": {
      "needs_background": "light"
     },
     "output_type": "display_data"
    }
   ],
   "source": [
    "plt.plot(np.linspace(2,10,numClusters),Q)\n",
    "plt.xlabel('Number of clusters')\n",
    "plt.ylabel('Sum of silhouette scores')"
   ]
  },
  {
   "cell_type": "code",
   "execution_count": 12,
   "id": "2304256b",
   "metadata": {},
   "outputs": [
    {
     "data": {
      "image/png": "[encoded data removed]",
      "text/plain": [
       "<Figure size 432x288 with 1 Axes>"
      ]
     },
     "metadata": {
      "needs_background": "light"
     },
     "output_type": "display_data"
    }
   ],
   "source": [
    "# Aside from choosing the 1 cluster\n",
    "# 6 seems like a reasonable cluster to consider\n",
    "kMeans = KMeans(n_clusters = 6)\n",
    "\n",
    "label = kMeans.fit_predict(trans_data)\n",
    "\n",
    "u_labels = np.unique(label)\n",
    "\n",
    "for i in u_labels:\n",
    "    plt.scatter(trans_data[label==i,0],trans_data[label==i,1],label = i)\n",
    "plt.legend()\n",
    "plt.xlabel('First maximal direction wise')\n",
    "plt.ylabel('Second maximal direction wise')\n",
    "plt.show()"
   ]
  },
  {
   "cell_type": "code",
   "execution_count": null,
   "id": "ca5b9c18",
   "metadata": {},
   "outputs": [],
   "source": []
  },
  {
   "cell_type": "markdown",
   "id": "69821be1",
   "metadata": {},
   "source": [
    "4) Use these principal components and/or clusters you identified to build a classification model of your choice (e.g. logistic regression, kNN, SVM, random forest), where you predict the movie ratings of all movies from the personality factors identified before. Make sure to use cross-validation methods to avoid overfitting and assess the accuracy of your model by stating its AUC."
   ]
  },
  {
   "cell_type": "code",
   "execution_count": 13,
   "id": "7b5e7d03",
   "metadata": {},
   "outputs": [
    {
     "name": "stdout",
     "output_type": "stream",
     "text": [
      "(1097, 400)\n",
      "[[0. 0. 1. ... 0. 0. 0.]\n",
      " [0. 0. 0. ... 0. 0. 0.]\n",
      " [0. 0. 1. ... 0. 0. 0.]\n",
      " ...\n",
      " [0. 0. 1. ... 0. 0. 0.]\n",
      " [0. 0. 1. ... 0. 0. 0.]\n",
      " [0. 0. 1. ... 0. 0. 0.]]\n"
     ]
    }
   ],
   "source": [
    "from sklearn import svm, datasets\n",
    "from sklearn.metrics import roc_curve, auc, roc_auc_score, accuracy_score\n",
    "from sklearn.model_selection import train_test_split\n",
    "from sklearn.preprocessing import label_binarize\n",
    "from sklearn.multiclass import OneVsRestClassifier\n",
    "\n",
    "movie_data = df1.iloc[:,:400]\n",
    "\n",
    "avg = movie_data.mean(axis = 0, skipna = True)\n",
    "\n",
    "movie_data.fillna(avg, inplace = True)\n",
    "\n",
    "# Artificially setting the movie ratings into two classification\n",
    "# 0-2 Low\n",
    "# 3-5 high\n",
    "\n",
    "movie_data = movie_data.to_numpy()\n",
    "movie_data[movie_data<3] = 0\n",
    "movie_data[movie_data>= 3] = 1\n",
    "\n",
    "\n",
    "\n",
    "\n",
    "print(np.shape(movie_data))\n",
    "print(movie_data)\n",
    "\n"
   ]
  },
  {
   "cell_type": "code",
   "execution_count": 14,
   "id": "042623c6",
   "metadata": {},
   "outputs": [
    {
     "name": "stdout",
     "output_type": "stream",
     "text": [
      "(877, 2)\n"
     ]
    }
   ],
   "source": [
    "from sklearn.linear_model import LogisticRegression\n",
    "from scipy.special import expit\n",
    "from sklearn.model_selection import train_test_split\n",
    "\n",
    "\n",
    "\n",
    "X_train, X_test, y_train, y_test = train_test_split(trans_data, movie_data[:,0], test_size=0.2)\n",
    "\n",
    "def mean_squared_loss(y_pred,y):\n",
    "    return np.sum((y_pred - y)**2)/(2*len(y))\n",
    "\n",
    "regressor=LogisticRegression()\n",
    "regressor.fit(X_train, y_train)\n",
    "preds=regressor.predict(X_test)\n",
    "\n",
    "print(np.shape(X_train))"
   ]
  },
  {
   "cell_type": "code",
   "execution_count": 15,
   "id": "f52444cb",
   "metadata": {},
   "outputs": [
    {
     "name": "stdout",
     "output_type": "stream",
     "text": [
      "Splits: 877\n"
     ]
    },
    {
     "data": {
      "image/png": "[encoded data removed]",
      "text/plain": [
       "<Figure size 432x288 with 1 Axes>"
      ]
     },
     "metadata": {
      "needs_background": "light"
     },
     "output_type": "display_data"
    }
   ],
   "source": [
    "# Leave one out no loss\n",
    "from sklearn.model_selection import LeaveOneOut\n",
    "loo = LeaveOneOut()\n",
    "losses=[]\n",
    "accuracy = [NameError]\n",
    "print(\"Splits: %d\" % loo.get_n_splits(X_train))\n",
    "for i in range(np.shape(trans_data)[1]):\n",
    "    X_train, X_test, y_train, y_test = train_test_split(trans_data, movie_data[:,i], test_size=0.2, random_state=0)\n",
    "    for train_index, val_index in loo.split(X_train):\n",
    "        train_x, train_y = X_train[train_index,:], y_train[train_index]\n",
    "        val_x, val_y = X_train[val_index,:], y_train[val_index]\n",
    "        regressor= LogisticRegression().fit(train_x, train_y)\n",
    "        preds=regressor.predict(val_x)\n",
    "        losses.append(mean_squared_loss(preds, val_y))\n",
    "\n",
    "plt.hist(losses)\n",
    "plt.xlabel(\"Mean Square Losses\")\n",
    "plt.ylabel(\"Frequency\")\n",
    "plt.show()"
   ]
  },
  {
   "cell_type": "code",
   "execution_count": 16,
   "id": "d2acc5f4",
   "metadata": {},
   "outputs": [
    {
     "name": "stdout",
     "output_type": "stream",
     "text": [
      "400\n"
     ]
    }
   ],
   "source": [
    "predd = regressor.predict(val_x)\n",
    "print(np.shape(movie_data)[1])"
   ]
  },
  {
   "cell_type": "code",
   "execution_count": 17,
   "id": "a337a790",
   "metadata": {},
   "outputs": [
    {
     "name": "stdout",
     "output_type": "stream",
     "text": [
      "Splits: 10\n"
     ]
    },
    {
     "data": {
      "image/png": "[encoded data removed]",
      "text/plain": [
       "<Figure size 432x288 with 1 Axes>"
      ]
     },
     "metadata": {
      "needs_background": "light"
     },
     "output_type": "display_data"
    }
   ],
   "source": [
    "from sklearn.model_selection import KFold\n",
    "loo = KFold(10)\n",
    "losses=[]\n",
    "accuracy = []\n",
    "\n",
    "print(\"Splits: %d\" % loo.get_n_splits(X_train))\n",
    "for i in range(np.shape(movie_data)[1]):\n",
    "    n = 0\n",
    "    sum =0\n",
    "\n",
    "    X_train, X_test, y_train, y_test = train_test_split(trans_data, movie_data[:,i], test_size=0.2, random_state=0)\n",
    "    for train_index, val_index in loo.split(X_train):\n",
    "        n += 1\n",
    "        train_x, train_y = X_train[train_index,:], y_train[train_index]\n",
    "        val_x, val_y = X_train[val_index,:], y_train[val_index]\n",
    "        regressor= LogisticRegression().fit(train_x, train_y)\n",
    "        preds=regressor.predict(val_x)\n",
    "        losses.append(mean_squared_loss(preds, val_y))\n",
    "        sum += accuracy_score(val_y, preds)\n",
    "    avg = sum/n\n",
    "    accuracy.append(avg)\n",
    "\n",
    "\n",
    "\n",
    "\n",
    "plt.hist(losses)\n",
    "plt.xlabel(\"Mean Square Losses\")\n",
    "plt.ylabel(\"Frequency\")\n",
    "plt.show()"
   ]
  },
  {
   "cell_type": "code",
   "execution_count": 18,
   "id": "776500e9",
   "metadata": {},
   "outputs": [
    {
     "name": "stdout",
     "output_type": "stream",
     "text": [
      "Accuracy score : 0.8930471852142111\n"
     ]
    }
   ],
   "source": [
    "print(\"Accuracy score :\", np.mean(accuracy))\n"
   ]
  },
  {
   "cell_type": "code",
   "execution_count": null,
   "id": "8c20c295",
   "metadata": {},
   "outputs": [],
   "source": []
  },
  {
   "cell_type": "markdown",
   "id": "fc803ab1",
   "metadata": {},
   "source": [
    "5) Create a neural network model of your choice to predict movie ratings, using information from all 477 columns. Make sure to comment on the accuracy of this model."
   ]
  },
  {
   "cell_type": "code",
   "execution_count": 19,
   "id": "94646a81",
   "metadata": {},
   "outputs": [],
   "source": [
    "\n",
    "X = data\n",
    "# one arbitary movie \n",
    "Yt = movie_data[:,8]\n",
    "\n",
    "X = data.T\n",
    "Yt = Yt.reshape(1,np.shape(Yt)[0])"
   ]
  },
  {
   "cell_type": "code",
   "execution_count": 20,
   "id": "2c9bc21f",
   "metadata": {},
   "outputs": [
    {
     "data": {
      "text/plain": [
       "(1, 1097)"
      ]
     },
     "execution_count": 20,
     "metadata": {},
     "output_type": "execute_result"
    }
   ],
   "source": [
    "Yt.shape"
   ]
  },
  {
   "cell_type": "code",
   "execution_count": 21,
   "id": "1d4cb8a4",
   "metadata": {},
   "outputs": [
    {
     "data": {
      "text/plain": [
       "(54, 1097)"
      ]
     },
     "execution_count": 21,
     "metadata": {},
     "output_type": "execute_result"
    }
   ],
   "source": [
    "from sklearn.preprocessing import StandardScaler\n",
    "# We retain our scaler \"sc\" in case we need to invert our inputs\n",
    "sc = StandardScaler()\n",
    "sc.fit(X)\n",
    "X = sc.transform(X)\n",
    "X.shape"
   ]
  },
  {
   "cell_type": "code",
   "execution_count": 22,
   "id": "a8ad9891",
   "metadata": {},
   "outputs": [],
   "source": [
    "#input\n",
    "n0 = 54\n",
    "# number of hidden units\n",
    "n1 = 20\n",
    "# number of outputs\n",
    "n2 = 1\n",
    "# number of samples\n",
    "m = 100\n",
    "\n",
    "# We initialize our weights in a random normal fashion to aid the backpropagation\n",
    "W1 = np.random.randn(n1,n0) * 0.01\n",
    "W2 = np.random.randn(n2,n1) * 0.01\n",
    "\n",
    "# We may initailize the biases as 0 without hampering backpropagation\n",
    "B1 = np.zeros((n1,1))\n",
    "B2 = np.zeros((n2,1))"
   ]
  },
  {
   "cell_type": "code",
   "execution_count": 23,
   "id": "bae61b75",
   "metadata": {},
   "outputs": [],
   "source": [
    "def sigmoid(arr):\n",
    "    return 1/(1+np.exp(-arr))"
   ]
  },
  {
   "cell_type": "code",
   "execution_count": 24,
   "id": "fbdee8bc",
   "metadata": {},
   "outputs": [],
   "source": [
    "# forward propagation\n",
    "\n",
    "# As explained, the output of first layer can be obtained by taking the dot product of weights and inputs and then\n",
    "# broadcasting the biases\n",
    "Z1 = W1.dot(X) + B1\n",
    "# activating the first layer (the hidden layer)\n",
    "A1 = sigmoid(Z1)\n",
    "\n",
    "# The next layer uses output of previous layer as input\n",
    "Z2 = W2.dot(A1) + B2\n",
    "# The decision\n",
    "A2 = sigmoid(Z2)"
   ]
  },
  {
   "cell_type": "code",
   "execution_count": 27,
   "id": "6ba21fa5",
   "metadata": {},
   "outputs": [],
   "source": [
    "# backprop\n",
    "\n",
    "# For sigmoid backprop and binary logloss, our derivative of cost w.r.t Z2 is:\n",
    "dZ2 = A2 - Yt\n",
    "# This is a formula you guys will need to commit to memory or use as a reference. It requires quite a bit of work to derive\n",
    "dW2 = (1/m) * (dZ2.dot(A1.T))\n",
    "# Dervative of biases is usually just what derivative of weights is, excluding the multiplication with inputs from previous layer\n",
    "dB2 = (1/m) * (dZ2.mean(axis = 1,keepdims = True))\n",
    "\n",
    "# Another formula to remember dZ(of layer L) = W(of layer L).T.dot(dZ(L+1)) * derivative expression\n",
    "# The derivative expression for sigmoid is A1 * (1 - A1).\n",
    "# If the activation of this layer had been tanh, the derivative expression would have been (1 - A1**2)\n",
    "dZ1 = (W2.T).dot(dZ2) * A1 * (1 - A1)\n",
    "dW1 = (1/m) * (dZ1.dot(X.T))\n",
    "dB1 = (1/m) * (dZ1.mean(axis = 1,keepdims = True)) "
   ]
  },
  {
   "cell_type": "code",
   "execution_count": 28,
   "id": "9a8a1c9c",
   "metadata": {},
   "outputs": [],
   "source": [
    "# Updating parameters\n",
    "lr = 0.01\n",
    "\n",
    "W1 = W1 - lr * dW1\n",
    "W2 = W2 - lr * dW2\n",
    "\n",
    "B1 = B1 - lr * dB1\n",
    "B2 = B2 - lr * dB2"
   ]
  },
  {
   "cell_type": "code",
   "execution_count": 29,
   "id": "0c39bd39",
   "metadata": {},
   "outputs": [],
   "source": [
    "# Binary cross entropy loss\n",
    "def logCost(A,Y):\n",
    "    return -(Y*np.log(A) + (1-Y)*np.log(1-A)).sum()"
   ]
  },
  {
   "cell_type": "code",
   "execution_count": 31,
   "id": "fbb1155b",
   "metadata": {},
   "outputs": [
    {
     "data": {
      "text/plain": [
       "759.2617934331288"
      ]
     },
     "execution_count": 31,
     "metadata": {},
     "output_type": "execute_result"
    }
   ],
   "source": [
    "# testing\n",
    "logCost(A2,Yt)"
   ]
  },
  {
   "cell_type": "code",
   "execution_count": 32,
   "id": "c3dd1dc0",
   "metadata": {},
   "outputs": [],
   "source": [
    "n0 = 54\n",
    "n1 = 1\n",
    "n2 = 1\n",
    "m = 100\n",
    "\n",
    "W1 = np.random.randn(n1,n0) * 0.01\n",
    "W2 = np.random.randn(n2,n1) * 0.01\n",
    "\n",
    "B1 = np.zeros((n1,1))\n",
    "B2 = np.zeros((n2,1))\n",
    "\n",
    "costs = []"
   ]
  },
  {
   "cell_type": "code",
   "execution_count": 35,
   "id": "a0d1b7d8",
   "metadata": {},
   "outputs": [
    {
     "name": "stdout",
     "output_type": "stream",
     "text": [
      "cost after 0 iterations is: 200.2029752399494\n",
      "cost after 50 iterations is: 200.19988566011727\n",
      "cost after 100 iterations is: 200.19682490745328\n",
      "cost after 150 iterations is: 200.1937926389192\n",
      "cost after 200 iterations is: 200.19078851627688\n",
      "cost after 250 iterations is: 200.18781220600505\n",
      "cost after 300 iterations is: 200.18486337921865\n",
      "cost after 350 iterations is: 200.18194171158981\n",
      "cost after 400 iterations is: 200.17904688327025\n",
      "cost after 450 iterations is: 200.17617857881586\n",
      "cost after 500 iterations is: 200.17333648711258\n",
      "cost after 550 iterations is: 200.17052030130395\n",
      "cost after 600 iterations is: 200.1677297187204\n",
      "cost after 650 iterations is: 200.1649644408099\n",
      "cost after 700 iterations is: 200.16222417306972\n",
      "cost after 750 iterations is: 200.15950862498048\n",
      "cost after 800 iterations is: 200.15681750994085\n",
      "cost after 850 iterations is: 200.15415054520395\n",
      "cost after 900 iterations is: 200.15150745181478\n",
      "cost after 950 iterations is: 200.14888795454934\n",
      "cost after 1000 iterations is: 200.14629178185453\n",
      "cost after 1050 iterations is: 200.14371866578992\n",
      "cost after 1100 iterations is: 200.14116834196972\n",
      "cost after 1150 iterations is: 200.138640549507\n",
      "cost after 1200 iterations is: 200.1361350309582\n",
      "cost after 1250 iterations is: 200.13365153226914\n",
      "cost after 1300 iterations is: 200.13118980272196\n",
      "cost after 1350 iterations is: 200.1287495948833\n",
      "cost after 1400 iterations is: 200.12633066455294\n",
      "cost after 1450 iterations is: 200.12393277071448\n",
      "cost after 1500 iterations is: 200.1215556754854\n",
      "cost after 1550 iterations is: 200.11919914407\n",
      "cost after 1600 iterations is: 200.11686294471133\n",
      "cost after 1650 iterations is: 200.11454684864566\n",
      "cost after 1700 iterations is: 200.11225063005648\n",
      "cost after 1750 iterations is: 200.10997406603036\n",
      "cost after 1800 iterations is: 200.10771693651304\n",
      "cost after 1850 iterations is: 200.10547902426674\n",
      "cost after 1900 iterations is: 200.1032601148276\n",
      "cost after 1950 iterations is: 200.10105999646498\n",
      "cost after 2000 iterations is: 200.09887846014027\n",
      "cost after 2050 iterations is: 200.09671529946746\n",
      "cost after 2100 iterations is: 200.09457031067387\n",
      "cost after 2150 iterations is: 200.09244329256163\n",
      "cost after 2200 iterations is: 200.09033404647025\n",
      "cost after 2250 iterations is: 200.0882423762392\n",
      "cost after 2300 iterations is: 200.0861680881717\n",
      "cost after 2350 iterations is: 200.08411099099922\n",
      "cost after 2400 iterations is: 200.08207089584562\n",
      "cost after 2450 iterations is: 200.0800476161935\n",
      "cost after 2500 iterations is: 200.07804096784966\n",
      "cost after 2550 iterations is: 200.07605076891224\n",
      "cost after 2600 iterations is: 200.07407683973753\n",
      "cost after 2650 iterations is: 200.07211900290818\n",
      "cost after 2700 iterations is: 200.07017708320123\n",
      "cost after 2750 iterations is: 200.06825090755729\n",
      "cost after 2800 iterations is: 200.06634030504992\n",
      "cost after 2850 iterations is: 200.06444510685537\n",
      "cost after 2900 iterations is: 200.06256514622336\n",
      "cost after 2950 iterations is: 200.06070025844764\n",
      "cost after 3000 iterations is: 200.058850280838\n",
      "cost after 3050 iterations is: 200.05701505269158\n",
      "cost after 3100 iterations is: 200.05519441526548\n",
      "cost after 3150 iterations is: 200.0533882117498\n",
      "cost after 3200 iterations is: 200.05159628724059\n",
      "cost after 3250 iterations is: 200.04981848871364\n",
      "cost after 3300 iterations is: 200.04805466499897\n",
      "cost after 3350 iterations is: 200.04630466675485\n",
      "cost after 3400 iterations is: 200.0445683464432\n",
      "cost after 3450 iterations is: 200.04284555830463\n",
      "cost after 3500 iterations is: 200.04113615833455\n",
      "cost after 3550 iterations is: 200.03944000425906\n",
      "cost after 3600 iterations is: 200.03775695551175\n",
      "cost after 3650 iterations is: 200.0360868732103\n",
      "cost after 3700 iterations is: 200.0344296201339\n",
      "cost after 3750 iterations is: 200.03278506070092\n",
      "cost after 3800 iterations is: 200.03115306094722\n",
      "cost after 3850 iterations is: 200.0295334885035\n",
      "cost after 3900 iterations is: 200.02792621257507\n",
      "cost after 3950 iterations is: 200.02633110392037\n",
      "cost after 4000 iterations is: 200.02474803483008\n",
      "cost after 4050 iterations is: 200.02317687910727\n",
      "cost after 4100 iterations is: 200.02161751204682\n",
      "cost after 4150 iterations is: 200.02006981041626\n",
      "cost after 4200 iterations is: 200.01853365243568\n",
      "cost after 4250 iterations is: 200.01700891775914\n",
      "cost after 4300 iterations is: 200.01549548745572\n",
      "cost after 4350 iterations is: 200.01399324399068\n",
      "cost after 4400 iterations is: 200.0125020712076\n",
      "cost after 4450 iterations is: 200.01102185430977\n",
      "cost after 4500 iterations is: 200.0095524798433\n",
      "cost after 4550 iterations is: 200.00809383567878\n",
      "cost after 4600 iterations is: 200.0066458109948\n",
      "cost after 4650 iterations is: 200.00520829626035\n",
      "cost after 4700 iterations is: 200.00378118321873\n",
      "cost after 4750 iterations is: 200.00236436487072\n",
      "cost after 4800 iterations is: 200.00095773545826\n",
      "cost after 4850 iterations is: 199.99956119044901\n",
      "cost after 4900 iterations is: 199.99817462652018\n",
      "cost after 4950 iterations is: 199.99679794154275\n",
      "cost after 5000 iterations is: 199.9954310345671\n",
      "cost after 5050 iterations is: 199.99407380580715\n",
      "cost after 5100 iterations is: 199.99272615662568\n",
      "cost after 5150 iterations is: 199.99138798951995\n",
      "cost after 5200 iterations is: 199.99005920810714\n",
      "cost after 5250 iterations is: 199.98873971711\n",
      "cost after 5300 iterations is: 199.98742942234313\n",
      "cost after 5350 iterations is: 199.9861282306989\n",
      "cost after 5400 iterations is: 199.98483605013408\n",
      "cost after 5450 iterations is: 199.98355278965622\n",
      "cost after 5500 iterations is: 199.98227835931067\n",
      "cost after 5550 iterations is: 199.98101267016716\n",
      "cost after 5600 iterations is: 199.97975563430737\n",
      "cost after 5650 iterations is: 199.97850716481219\n",
      "cost after 5700 iterations is: 199.97726717574875\n",
      "cost after 5750 iterations is: 199.97603558215883\n",
      "cost after 5800 iterations is: 199.97481230004627\n",
      "cost after 5850 iterations is: 199.97359724636493\n",
      "cost after 5900 iterations is: 199.97239033900723\n",
      "cost after 5950 iterations is: 199.9711914967923\n",
      "cost after 6000 iterations is: 199.9700006394545\n",
      "cost after 6050 iterations is: 199.96881768763197\n",
      "cost after 6100 iterations is: 199.96764256285587\n",
      "cost after 6150 iterations is: 199.96647518753895\n",
      "cost after 6200 iterations is: 199.96531548496478\n",
      "cost after 6250 iterations is: 199.96416337927747\n",
      "cost after 6300 iterations is: 199.96301879547036\n",
      "cost after 6350 iterations is: 199.9618816593761\n",
      "cost after 6400 iterations is: 199.9607518976565\n",
      "cost after 6450 iterations is: 199.95962943779176\n",
      "cost after 6500 iterations is: 199.95851420807134\n",
      "cost after 6550 iterations is: 199.95740613758306\n",
      "cost after 6600 iterations is: 199.95630515620445\n",
      "cost after 6650 iterations is: 199.95521119459238\n",
      "cost after 6700 iterations is: 199.95412418417396\n",
      "cost after 6750 iterations is: 199.953044057137\n",
      "cost after 6800 iterations is: 199.95197074642084\n",
      "cost after 6850 iterations is: 199.95090418570743\n",
      "cost after 6900 iterations is: 199.94984430941227\n",
      "cost after 6950 iterations is: 199.94879105267515\n",
      "cost after 7000 iterations is: 199.9477443513522\n",
      "cost after 7050 iterations is: 199.94670414200678\n",
      "cost after 7100 iterations is: 199.9456703619008\n",
      "cost after 7150 iterations is: 199.94464294898677\n",
      "cost after 7200 iterations is: 199.94362184189944\n",
      "cost after 7250 iterations is: 199.9426069799473\n",
      "cost after 7300 iterations is: 199.9415983031048\n",
      "cost after 7350 iterations is: 199.9405957520043\n",
      "cost after 7400 iterations is: 199.93959926792854\n",
      "cost after 7450 iterations is: 199.9386087928022\n",
      "cost after 7500 iterations is: 199.93762426918488\n",
      "cost after 7550 iterations is: 199.93664564026318\n",
      "cost after 7600 iterations is: 199.93567284984377\n",
      "cost after 7650 iterations is: 199.93470584234512\n",
      "cost after 7700 iterations is: 199.9337445627911\n",
      "cost after 7750 iterations is: 199.93278895680362\n",
      "cost after 7800 iterations is: 199.9318389705952\n",
      "cost after 7850 iterations is: 199.9308945509625\n",
      "cost after 7900 iterations is: 199.92995564527882\n",
      "cost after 7950 iterations is: 199.92902220148804\n",
      "cost after 8000 iterations is: 199.9280941680973\n",
      "cost after 8050 iterations is: 199.92717149417055\n",
      "cost after 8100 iterations is: 199.92625412932227\n",
      "cost after 8150 iterations is: 199.92534202371067\n",
      "cost after 8200 iterations is: 199.92443512803158\n",
      "cost after 8250 iterations is: 199.92353339351178\n",
      "cost after 8300 iterations is: 199.92263677190317\n",
      "cost after 8350 iterations is: 199.92174521547676\n",
      "cost after 8400 iterations is: 199.92085867701587\n",
      "cost after 8450 iterations is: 199.9199771098111\n",
      "cost after 8500 iterations is: 199.9191004676536\n",
      "cost after 8550 iterations is: 199.91822870482994\n",
      "cost after 8600 iterations is: 199.91736177611585\n",
      "cost after 8650 iterations is: 199.91649963677065\n",
      "cost after 8700 iterations is: 199.91564224253193\n",
      "cost after 8750 iterations is: 199.91478954960962\n",
      "cost after 8800 iterations is: 199.91394151468091\n",
      "cost after 8850 iterations is: 199.91309809488428\n",
      "cost after 8900 iterations is: 199.91225924781494\n",
      "cost after 8950 iterations is: 199.9114249315188\n",
      "cost after 9000 iterations is: 199.91059510448787\n",
      "cost after 9050 iterations is: 199.90976972565466\n",
      "cost after 9100 iterations is: 199.90894875438744\n",
      "cost after 9150 iterations is: 199.90813215048536\n",
      "cost after 9200 iterations is: 199.90731987417269\n",
      "cost after 9250 iterations is: 199.90651188609502\n",
      "cost after 9300 iterations is: 199.90570814731365\n",
      "cost after 9350 iterations is: 199.90490861930144\n",
      "cost after 9400 iterations is: 199.9041132639372\n",
      "cost after 9450 iterations is: 199.90332204350221\n",
      "cost after 9500 iterations is: 199.90253492067464\n",
      "cost after 9550 iterations is: 199.9017518585256\n",
      "cost after 9600 iterations is: 199.90097282051454\n",
      "cost after 9650 iterations is: 199.90019777048437\n",
      "cost after 9700 iterations is: 199.899426672658\n",
      "cost after 9750 iterations is: 199.8986594916333\n",
      "cost after 9800 iterations is: 199.89789619237888\n",
      "cost after 9850 iterations is: 199.8971367402304\n",
      "cost after 9900 iterations is: 199.8963811008859\n",
      "cost after 9950 iterations is: 199.89562924040166\n"
     ]
    }
   ],
   "source": [
    "epochs = 10000\n",
    "lr = 2\n",
    "\n",
    "for i in range(epochs):\n",
    "    # forward propagation\n",
    "\n",
    "    Z1 = W1.dot(X) + B1\n",
    "    A1 = sigmoid(Z1)\n",
    "\n",
    "    Z2 = W2.dot(A1) + B2\n",
    "    A2 = sigmoid(Z2)\n",
    "    \n",
    "    # print cost\n",
    "    cost = logCost(A2,Yt)\n",
    "    if i%50 == 0:\n",
    "        print(\"cost after\",str(i),\"iterations is:\",cost)\n",
    "    costs.append(cost)\n",
    "    \n",
    "    # backprop\n",
    "    dZ2 = A2 - Yt\n",
    "    dW2 = (1/m) * (dZ2.dot(A1.T))\n",
    "    dB2 = (1/m) * (dZ2.mean(axis = 1,keepdims = True))\n",
    "\n",
    "    dZ1 = (W2.T).dot(dZ2) * A1 * (1 - A1)\n",
    "    dW1 = (1/m) * (dZ1.dot(X.T))\n",
    "    dB1 = (1/m) * (dZ1.mean(axis = 1,keepdims = True)) \n",
    "    \n",
    "    # weight update\n",
    "    W1 = W1 - lr * dW1\n",
    "    W2 = W2 - lr * dW2\n",
    "\n",
    "    B1 = B1 - lr * dB1\n",
    "    B2 = B2 - lr * dB2"
   ]
  },
  {
   "cell_type": "code",
   "execution_count": 36,
   "id": "06794596",
   "metadata": {},
   "outputs": [],
   "source": [
    "pred = np.zeros(A2.shape)"
   ]
  },
  {
   "cell_type": "code",
   "execution_count": 37,
   "id": "29c960c5",
   "metadata": {},
   "outputs": [],
   "source": [
    "pred[A2 > 0.5] = 1"
   ]
  },
  {
   "cell_type": "code",
   "execution_count": 39,
   "id": "ae88272f",
   "metadata": {},
   "outputs": [],
   "source": [
    "A = pred - Yt"
   ]
  },
  {
   "cell_type": "code",
   "execution_count": 44,
   "id": "7cd47cf3",
   "metadata": {},
   "outputs": [
    {
     "data": {
      "text/plain": [
       "0.9927073837739289"
      ]
     },
     "execution_count": 44,
     "metadata": {},
     "output_type": "execute_result"
    }
   ],
   "source": [
    "# Accuracy\n",
    "1- np.sum(A[np.where(A>0)])/np.shape(A)[1]"
   ]
  },
  {
   "cell_type": "code",
   "execution_count": null,
   "id": "9d0ab258",
   "metadata": {},
   "outputs": [],
   "source": []
  }
 ],
 "metadata": {
  "kernelspec": {
   "display_name": "Python 3",
   "language": "python",
   "name": "python3"
  },
  "language_info": {
   "codemirror_mode": {
    "name": "ipython",
    "version": 3
   },
   "file_extension": ".py",
   "mimetype": "text/x-python",
   "name": "python",
   "nbconvert_exporter": "python",
   "pygments_lexer": "ipython3",
   "version": "3.8.8"
  }
 },
 "nbformat": 4,
 "nbformat_minor": 5
}
